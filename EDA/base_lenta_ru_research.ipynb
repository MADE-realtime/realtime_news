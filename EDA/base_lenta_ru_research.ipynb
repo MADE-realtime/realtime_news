{
 "cells": [
  {
   "cell_type": "code",
   "execution_count": 1,
   "id": "313fdcb0",
   "metadata": {},
   "outputs": [],
   "source": [
    "from datetime import date\n",
    "\n",
    "import pandas as pd"
   ]
  },
  {
   "cell_type": "code",
   "execution_count": 2,
   "id": "c8ac1883",
   "metadata": {},
   "outputs": [
    {
     "name": "stderr",
     "output_type": "stream",
     "text": [
      "/Users/mikhailgashkov/mailru_made/3/hws/realtime_news/.venv/lib/python3.8/site-packages/IPython/core/interactiveshell.py:3444: DtypeWarning: Columns (3) have mixed types.Specify dtype option on import or set low_memory=False.\n",
      "  exec(code_obj, self.user_global_ns, self.user_ns)\n"
     ]
    },
    {
     "data": {
      "text/html": [
       "<div>\n",
       "<style scoped>\n",
       "    .dataframe tbody tr th:only-of-type {\n",
       "        vertical-align: middle;\n",
       "    }\n",
       "\n",
       "    .dataframe tbody tr th {\n",
       "        vertical-align: top;\n",
       "    }\n",
       "\n",
       "    .dataframe thead th {\n",
       "        text-align: right;\n",
       "    }\n",
       "</style>\n",
       "<table border=\"1\" class=\"dataframe\">\n",
       "  <thead>\n",
       "    <tr style=\"text-align: right;\">\n",
       "      <th></th>\n",
       "      <th>url</th>\n",
       "      <th>title</th>\n",
       "      <th>text</th>\n",
       "      <th>topic</th>\n",
       "      <th>tags</th>\n",
       "      <th>date</th>\n",
       "    </tr>\n",
       "  </thead>\n",
       "  <tbody>\n",
       "    <tr>\n",
       "      <th>0</th>\n",
       "      <td>https://lenta.ru/news/1914/09/16/hungarnn/</td>\n",
       "      <td>1914. Русские войска вступили в пределы Венгрии</td>\n",
       "      <td>Бои у Сопоцкина и Друскеник закончились отступ...</td>\n",
       "      <td>Библиотека</td>\n",
       "      <td>Первая мировая</td>\n",
       "      <td>1914-09-16</td>\n",
       "    </tr>\n",
       "    <tr>\n",
       "      <th>1</th>\n",
       "      <td>https://lenta.ru/news/1914/09/16/lermontov/</td>\n",
       "      <td>1914. Празднование столетия М.Ю. Лермонтова от...</td>\n",
       "      <td>Министерство народного просвещения, в виду про...</td>\n",
       "      <td>Библиотека</td>\n",
       "      <td>Первая мировая</td>\n",
       "      <td>1914-09-16</td>\n",
       "    </tr>\n",
       "    <tr>\n",
       "      <th>2</th>\n",
       "      <td>https://lenta.ru/news/1914/09/17/nesteroff/</td>\n",
       "      <td>1914. Das ist Nesteroff!</td>\n",
       "      <td>Штабс-капитан П. Н. Нестеров на днях, увидев в...</td>\n",
       "      <td>Библиотека</td>\n",
       "      <td>Первая мировая</td>\n",
       "      <td>1914-09-17</td>\n",
       "    </tr>\n",
       "    <tr>\n",
       "      <th>3</th>\n",
       "      <td>https://lenta.ru/news/1914/09/17/bulldogn/</td>\n",
       "      <td>1914. Бульдог-гонец под Льежем</td>\n",
       "      <td>Фотограф-корреспондент Daily Mirror рассказыва...</td>\n",
       "      <td>Библиотека</td>\n",
       "      <td>Первая мировая</td>\n",
       "      <td>1914-09-17</td>\n",
       "    </tr>\n",
       "    <tr>\n",
       "      <th>4</th>\n",
       "      <td>https://lenta.ru/news/1914/09/18/zver/</td>\n",
       "      <td>1914. Под Люблином пойман швабский зверь</td>\n",
       "      <td>Лица, приехавшие в Варшаву из Люблина, передаю...</td>\n",
       "      <td>Библиотека</td>\n",
       "      <td>Первая мировая</td>\n",
       "      <td>1914-09-18</td>\n",
       "    </tr>\n",
       "  </tbody>\n",
       "</table>\n",
       "</div>"
      ],
      "text/plain": [
       "                                           url  \\\n",
       "0   https://lenta.ru/news/1914/09/16/hungarnn/   \n",
       "1  https://lenta.ru/news/1914/09/16/lermontov/   \n",
       "2  https://lenta.ru/news/1914/09/17/nesteroff/   \n",
       "3   https://lenta.ru/news/1914/09/17/bulldogn/   \n",
       "4       https://lenta.ru/news/1914/09/18/zver/   \n",
       "\n",
       "                                               title  \\\n",
       "0  1914. Русские войска вступили в пределы Венгрии     \n",
       "1  1914. Празднование столетия М.Ю. Лермонтова от...   \n",
       "2                           1914. Das ist Nesteroff!   \n",
       "3                    1914. Бульдог-гонец под Льежем    \n",
       "4           1914. Под Люблином пойман швабский зверь   \n",
       "\n",
       "                                                text       topic  \\\n",
       "0  Бои у Сопоцкина и Друскеник закончились отступ...  Библиотека   \n",
       "1  Министерство народного просвещения, в виду про...  Библиотека   \n",
       "2  Штабс-капитан П. Н. Нестеров на днях, увидев в...  Библиотека   \n",
       "3  Фотограф-корреспондент Daily Mirror рассказыва...  Библиотека   \n",
       "4  Лица, приехавшие в Варшаву из Люблина, передаю...  Библиотека   \n",
       "\n",
       "             tags       date  \n",
       "0  Первая мировая 1914-09-16  \n",
       "1  Первая мировая 1914-09-16  \n",
       "2  Первая мировая 1914-09-17  \n",
       "3  Первая мировая 1914-09-17  \n",
       "4  Первая мировая 1914-09-18  "
      ]
     },
     "execution_count": 2,
     "metadata": {},
     "output_type": "execute_result"
    }
   ],
   "source": [
    "df = pd.read_csv('../data/lenta-ru-news.csv', parse_dates=['date'])\n",
    "df.head()"
   ]
  },
  {
   "cell_type": "code",
   "execution_count": 63,
   "id": "7d53c235",
   "metadata": {},
   "outputs": [],
   "source": [
    "df['date'] = df['date'].map(lambda x: x.date())"
   ]
  },
  {
   "cell_type": "code",
   "execution_count": 68,
   "id": "182078fb",
   "metadata": {},
   "outputs": [
    {
     "data": {
      "text/plain": [
       "0"
      ]
     },
     "execution_count": 68,
     "metadata": {},
     "output_type": "execute_result"
    }
   ],
   "source": [
    "((df['date'] >= date(1991, 1, 1)) & (df['date'] <= date(1991, 12, 1))).sum()"
   ]
  },
  {
   "cell_type": "code",
   "execution_count": 5,
   "id": "83726284",
   "metadata": {},
   "outputs": [
    {
     "data": {
      "text/plain": [
       "{'Россия': 160445,\n",
       " 'Мир': 136621,\n",
       " 'Экономика': 79528,\n",
       " 'Спорт': 64413,\n",
       " 'Культура': 53797,\n",
       " 'Бывший СССР': 53402,\n",
       " 'Наука и техника': 53136,\n",
       " 'Интернет и СМИ': 44663,\n",
       " 'Из жизни': 27605,\n",
       " 'Дом': 21734,\n",
       " 'Силовые структуры': 19596,\n",
       " 'Ценности': 7766,\n",
       " 'Бизнес': 7399,\n",
       " 'Путешествия': 6408,\n",
       " '69-я параллель': 1268,\n",
       " 'Крым': 666,\n",
       " 'Культпросвет ': 340,\n",
       " 'Легпром': 114,\n",
       " 'Библиотека': 65,\n",
       " 'Оружие': 3,\n",
       " 'ЧМ-2014': 2,\n",
       " 'МедНовости': 1,\n",
       " 'Сочи': 1}"
      ]
     },
     "execution_count": 5,
     "metadata": {},
     "output_type": "execute_result"
    }
   ],
   "source": [
    "df['topic'].value_counts().to_dict()"
   ]
  },
  {
   "cell_type": "code",
   "execution_count": 29,
   "id": "7e96b6af",
   "metadata": {},
   "outputs": [
    {
     "data": {
      "text/html": [
       "<div>\n",
       "<style scoped>\n",
       "    .dataframe tbody tr th:only-of-type {\n",
       "        vertical-align: middle;\n",
       "    }\n",
       "\n",
       "    .dataframe tbody tr th {\n",
       "        vertical-align: top;\n",
       "    }\n",
       "\n",
       "    .dataframe thead th {\n",
       "        text-align: right;\n",
       "    }\n",
       "</style>\n",
       "<table border=\"1\" class=\"dataframe\">\n",
       "  <thead>\n",
       "    <tr style=\"text-align: right;\">\n",
       "      <th></th>\n",
       "      <th>url</th>\n",
       "      <th>title</th>\n",
       "      <th>text</th>\n",
       "      <th>topic</th>\n",
       "      <th>tags</th>\n",
       "      <th>date</th>\n",
       "    </tr>\n",
       "  </thead>\n",
       "  <tbody>\n",
       "    <tr>\n",
       "      <th>345384</th>\n",
       "      <td>https://lenta.ru/news/2010/09/16/alexeev/</td>\n",
       "      <td>Оппозиционеры объявили о похищении лидера росс...</td>\n",
       "      <td>Один из лидеров российского гей-движения Никол...</td>\n",
       "      <td>Россия</td>\n",
       "      <td>Все</td>\n",
       "      <td>2010-09-16</td>\n",
       "    </tr>\n",
       "    <tr>\n",
       "      <th>345385</th>\n",
       "      <td>https://lenta.ru/news/2010/09/16/president/</td>\n",
       "      <td>Назарбаев пойдет на четвертый срок</td>\n",
       "      <td>Президент Казахстана Нурсултан Назарбаев выста...</td>\n",
       "      <td>Бывший СССР</td>\n",
       "      <td>Все</td>\n",
       "      <td>2010-09-16</td>\n",
       "    </tr>\n",
       "    <tr>\n",
       "      <th>345386</th>\n",
       "      <td>https://lenta.ru/news/2010/09/16/khasids1/</td>\n",
       "      <td>В Израиле арестовали 400 вернувшихся из Украин...</td>\n",
       "      <td>Израильская полиция задержала в аэропортах око...</td>\n",
       "      <td>Мир</td>\n",
       "      <td>Все</td>\n",
       "      <td>2010-09-16</td>\n",
       "    </tr>\n",
       "    <tr>\n",
       "      <th>345387</th>\n",
       "      <td>https://lenta.ru/news/2010/09/16/dst/</td>\n",
       "      <td>Фонд DST переименовали в Mail.Ru Group</td>\n",
       "      <td>Российский интернет-холдинг Digital Sky Techno...</td>\n",
       "      <td>Интернет и СМИ</td>\n",
       "      <td>Все</td>\n",
       "      <td>2010-09-16</td>\n",
       "    </tr>\n",
       "    <tr>\n",
       "      <th>345388</th>\n",
       "      <td>https://lenta.ru/news/2010/09/16/choochoo/</td>\n",
       "      <td>РЖД предложили пассажирам арендовать электрички</td>\n",
       "      <td>\"Российские железные дороги\" (РЖД) предложат п...</td>\n",
       "      <td>Экономика</td>\n",
       "      <td>Все</td>\n",
       "      <td>2010-09-16</td>\n",
       "    </tr>\n",
       "    <tr>\n",
       "      <th>...</th>\n",
       "      <td>...</td>\n",
       "      <td>...</td>\n",
       "      <td>...</td>\n",
       "      <td>...</td>\n",
       "      <td>...</td>\n",
       "      <td>...</td>\n",
       "    </tr>\n",
       "    <tr>\n",
       "      <th>345521</th>\n",
       "      <td>https://lenta.ru/news/2010/09/16/beer/</td>\n",
       "      <td>Онищенко обрадовался подорожанию пива</td>\n",
       "      <td>Главный государственный санитарный врач России...</td>\n",
       "      <td>Экономика</td>\n",
       "      <td>Все</td>\n",
       "      <td>2010-09-16</td>\n",
       "    </tr>\n",
       "    <tr>\n",
       "      <th>345522</th>\n",
       "      <td>https://lenta.ru/news/2010/09/16/gorshkov/</td>\n",
       "      <td>ВМС Индии рассказали о тратах на \"Адмирала Гор...</td>\n",
       "      <td>Покупка, ремонт и модернизация российского ави...</td>\n",
       "      <td>Наука и техника</td>\n",
       "      <td>Все</td>\n",
       "      <td>2010-09-16</td>\n",
       "    </tr>\n",
       "    <tr>\n",
       "      <th>345523</th>\n",
       "      <td>https://lenta.ru/news/2010/09/16/oscar/</td>\n",
       "      <td>Кончаловский опроверг участие в выдвижении \"Кр...</td>\n",
       "      <td>Андрей Кончаловский опроверг свое участие в вы...</td>\n",
       "      <td>Культура</td>\n",
       "      <td>Все</td>\n",
       "      <td>2010-09-16</td>\n",
       "    </tr>\n",
       "    <tr>\n",
       "      <th>345524</th>\n",
       "      <td>https://lenta.ru/news/2010/09/16/nodecision/</td>\n",
       "      <td>Слушания Общественной палаты о Химкинском лесе...</td>\n",
       "      <td>Общественная палата не приняла никакого решени...</td>\n",
       "      <td>Россия</td>\n",
       "      <td>Все</td>\n",
       "      <td>2010-09-16</td>\n",
       "    </tr>\n",
       "    <tr>\n",
       "      <th>345525</th>\n",
       "      <td>https://lenta.ru/news/2010/09/16/bestdressed/</td>\n",
       "      <td>Журнал People выбрал самых нарядных знаменитостей</td>\n",
       "      <td>Журнал People опубликовал ежегодный список дес...</td>\n",
       "      <td>Из жизни</td>\n",
       "      <td>Все</td>\n",
       "      <td>2010-09-16</td>\n",
       "    </tr>\n",
       "  </tbody>\n",
       "</table>\n",
       "<p>142 rows × 6 columns</p>\n",
       "</div>"
      ],
      "text/plain": [
       "                                                  url  \\\n",
       "345384      https://lenta.ru/news/2010/09/16/alexeev/   \n",
       "345385    https://lenta.ru/news/2010/09/16/president/   \n",
       "345386     https://lenta.ru/news/2010/09/16/khasids1/   \n",
       "345387          https://lenta.ru/news/2010/09/16/dst/   \n",
       "345388     https://lenta.ru/news/2010/09/16/choochoo/   \n",
       "...                                               ...   \n",
       "345521         https://lenta.ru/news/2010/09/16/beer/   \n",
       "345522     https://lenta.ru/news/2010/09/16/gorshkov/   \n",
       "345523        https://lenta.ru/news/2010/09/16/oscar/   \n",
       "345524   https://lenta.ru/news/2010/09/16/nodecision/   \n",
       "345525  https://lenta.ru/news/2010/09/16/bestdressed/   \n",
       "\n",
       "                                                    title  \\\n",
       "345384  Оппозиционеры объявили о похищении лидера росс...   \n",
       "345385                 Назарбаев пойдет на четвертый срок   \n",
       "345386  В Израиле арестовали 400 вернувшихся из Украин...   \n",
       "345387             Фонд DST переименовали в Mail.Ru Group   \n",
       "345388    РЖД предложили пассажирам арендовать электрички   \n",
       "...                                                   ...   \n",
       "345521              Онищенко обрадовался подорожанию пива   \n",
       "345522  ВМС Индии рассказали о тратах на \"Адмирала Гор...   \n",
       "345523  Кончаловский опроверг участие в выдвижении \"Кр...   \n",
       "345524  Слушания Общественной палаты о Химкинском лесе...   \n",
       "345525  Журнал People выбрал самых нарядных знаменитостей   \n",
       "\n",
       "                                                     text            topic  \\\n",
       "345384  Один из лидеров российского гей-движения Никол...           Россия   \n",
       "345385  Президент Казахстана Нурсултан Назарбаев выста...      Бывший СССР   \n",
       "345386  Израильская полиция задержала в аэропортах око...              Мир   \n",
       "345387  Российский интернет-холдинг Digital Sky Techno...   Интернет и СМИ   \n",
       "345388  \"Российские железные дороги\" (РЖД) предложат п...        Экономика   \n",
       "...                                                   ...              ...   \n",
       "345521  Главный государственный санитарный врач России...        Экономика   \n",
       "345522  Покупка, ремонт и модернизация российского ави...  Наука и техника   \n",
       "345523  Андрей Кончаловский опроверг свое участие в вы...         Культура   \n",
       "345524  Общественная палата не приняла никакого решени...           Россия   \n",
       "345525  Журнал People опубликовал ежегодный список дес...         Из жизни   \n",
       "\n",
       "       tags       date  \n",
       "345384  Все 2010-09-16  \n",
       "345385  Все 2010-09-16  \n",
       "345386  Все 2010-09-16  \n",
       "345387  Все 2010-09-16  \n",
       "345388  Все 2010-09-16  \n",
       "...     ...        ...  \n",
       "345521  Все 2010-09-16  \n",
       "345522  Все 2010-09-16  \n",
       "345523  Все 2010-09-16  \n",
       "345524  Все 2010-09-16  \n",
       "345525  Все 2010-09-16  \n",
       "\n",
       "[142 rows x 6 columns]"
      ]
     },
     "execution_count": 29,
     "metadata": {},
     "output_type": "execute_result"
    }
   ],
   "source": [
    "df[df['date']=='2010-09-16']"
   ]
  },
  {
   "cell_type": "code",
   "execution_count": 35,
   "id": "eee63979",
   "metadata": {},
   "outputs": [
    {
     "data": {
      "text/plain": [
       "True"
      ]
     },
     "execution_count": 35,
     "metadata": {},
     "output_type": "execute_result"
    }
   ],
   "source": [
    "isinstance(df['date'][0], date)"
   ]
  },
  {
   "cell_type": "code",
   "execution_count": 38,
   "id": "c0b8781c",
   "metadata": {},
   "outputs": [
    {
     "ename": "TypeError",
     "evalue": "an integer is required (got type str)",
     "output_type": "error",
     "traceback": [
      "\u001b[0;31m---------------------------------------------------------------------------\u001b[0m",
      "\u001b[0;31mTypeError\u001b[0m                                 Traceback (most recent call last)",
      "\u001b[0;32m/var/folders/g2/bsyh3zhd6391b9hls2ygybn80000gn/T/ipykernel_7617/3747308213.py\u001b[0m in \u001b[0;36m<module>\u001b[0;34m\u001b[0m\n\u001b[0;32m----> 1\u001b[0;31m \u001b[0mdate\u001b[0m\u001b[0;34m(\u001b[0m\u001b[0;34m'2010-09-16'\u001b[0m\u001b[0;34m)\u001b[0m\u001b[0;34m\u001b[0m\u001b[0;34m\u001b[0m\u001b[0m\n\u001b[0m",
      "\u001b[0;31mTypeError\u001b[0m: an integer is required (got type str)"
     ]
    }
   ],
   "source": [
    "date('2010-09-16')"
   ]
  },
  {
   "cell_type": "code",
   "execution_count": 39,
   "id": "60e08610",
   "metadata": {},
   "outputs": [],
   "source": [
    "from datetime import datetime, date\n",
    "\n",
    "\n",
    "def convert_str_to_date(str_date: str) -> date:\n",
    "    return datetime.strptime(str_date, '%Y-%m-%d').date()"
   ]
  },
  {
   "cell_type": "code",
   "execution_count": 41,
   "id": "e2cd0b0b",
   "metadata": {},
   "outputs": [
    {
     "data": {
      "text/plain": [
       "datetime.date(1991, 12, 5)"
      ]
     },
     "execution_count": 41,
     "metadata": {},
     "output_type": "execute_result"
    }
   ],
   "source": [
    "convert_str_to_date('1991-12-05')"
   ]
  },
  {
   "cell_type": "code",
   "execution_count": null,
   "id": "b62b2eeb",
   "metadata": {},
   "outputs": [],
   "source": []
  }
 ],
 "metadata": {
  "kernelspec": {
   "display_name": "Python 3 (ipykernel)",
   "language": "python",
   "name": "python3"
  },
  "language_info": {
   "codemirror_mode": {
    "name": "ipython",
    "version": 3
   },
   "file_extension": ".py",
   "mimetype": "text/x-python",
   "name": "python",
   "nbconvert_exporter": "python",
   "pygments_lexer": "ipython3",
   "version": "3.8.5"
  }
 },
 "nbformat": 4,
 "nbformat_minor": 5
}
