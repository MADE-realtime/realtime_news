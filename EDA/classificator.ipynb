{
 "cells": [
  {
   "cell_type": "markdown",
   "metadata": {},
   "source": [
    "# Linear models"
   ]
  },
  {
   "cell_type": "code",
   "execution_count": 83,
   "metadata": {},
   "outputs": [],
   "source": [
    "import matplotlib\n",
    "from matplotlib import pyplot as plt\n",
    "matplotlib.pyplot.style.use('ggplot')\n",
    "\n",
    "from sklearn import datasets, linear_model, metrics, model_selection, pipeline, preprocessing, multiclass, naive_bayes, svm\n",
    "from sklearn.feature_extraction.text import CountVectorizer, TfidfVectorizer\n",
    "import numpy as np\n",
    "import pandas as pd\n",
    "import ast\n",
    "import string\n",
    "import re\n",
    "import pickle "
   ]
  },
  {
   "cell_type": "code",
   "execution_count": 3,
   "metadata": {},
   "outputs": [],
   "source": [
    "from tqdm import tqdm"
   ]
  },
  {
   "cell_type": "code",
   "execution_count": 4,
   "metadata": {},
   "outputs": [
    {
     "name": "stderr",
     "output_type": "stream",
     "text": [
      "C:\\ProgramData\\Anaconda3\\lib\\site-packages\\IPython\\core\\interactiveshell.py:3444: DtypeWarning: Columns (3) have mixed types.Specify dtype option on import or set low_memory=False.\n",
      "  exec(code_obj, self.user_global_ns, self.user_ns)\n"
     ]
    }
   ],
   "source": [
    "data_q = pd.read_csv('data/lenta-ru-news.csv',sep=',')\n"
   ]
  },
  {
   "cell_type": "code",
   "execution_count": 5,
   "metadata": {},
   "outputs": [],
   "source": [
    "data_q.date = data_q.date.apply(lambda i: int(i[:4]))\n",
    "train = data_q[data_q.date > 2000]"
   ]
  },
  {
   "cell_type": "code",
   "execution_count": 6,
   "metadata": {},
   "outputs": [
    {
     "data": {
      "text/plain": [
       "array(['Россия', 'Спорт', 'Экономика', 'Мир', 'Из жизни',\n",
       "       'Интернет и СМИ', 'Культура', 'Силовые структуры',\n",
       "       'Наука и техника', 'Бывший СССР', nan, 'Дом', 'Сочи', 'ЧМ-2014',\n",
       "       'Путешествия', 'Библиотека', 'Ценности', 'Легпром', 'Бизнес',\n",
       "       'МедНовости', 'Оружие', '69-я параллель', 'Культпросвет ', 'Крым'],\n",
       "      dtype=object)"
      ]
     },
     "execution_count": 6,
     "metadata": {},
     "output_type": "execute_result"
    }
   ],
   "source": [
    "train.topic.unique()"
   ]
  },
  {
   "cell_type": "code",
   "execution_count": 7,
   "metadata": {},
   "outputs": [
    {
     "data": {
      "text/plain": [
       "19262                   Все\n",
       "19263                   Все\n",
       "19264                   Все\n",
       "19265                   Все\n",
       "19266                   Все\n",
       "                ...        \n",
       "800970           ТВ и радио\n",
       "800971                  Все\n",
       "800972             Политика\n",
       "800973             Общество\n",
       "800974    Английский футбол\n",
       "Name: tags, Length: 781713, dtype: object"
      ]
     },
     "execution_count": 7,
     "metadata": {},
     "output_type": "execute_result"
    }
   ],
   "source": [
    "train.tags"
   ]
  },
  {
   "cell_type": "code",
   "execution_count": 8,
   "metadata": {},
   "outputs": [],
   "source": [
    "topic = {'Прибалтика':'Мир', \n",
    " 'Кино':'Культура', \n",
    " 'Преступность':'Преступность', \n",
    " 'Общество':'Из жизни',\n",
    " 'Происшествия':'Из жизни', \n",
    " 'Искусство':'Культура', \n",
    " 'Бизнес':'Экономика', \n",
    " 'Техника':'Наука и техника', \n",
    " 'ТВ и радио':'Интернет и СМИ',\n",
    " 'Политика':'Мир', \n",
    " 'Пресса':'Интернет и СМИ', \n",
    " 'Музыка':'Из жизни', \n",
    " 'Люди':'Из жизни', \n",
    " 'Звери':'Из жизни', \n",
    " 'Игры':'Наука и техника',\n",
    " 'Госэкономика':'Экономика', \n",
    " 'Гаджеты':'Наука и техника', \n",
    " 'Наука':'Наука и техника', \n",
    " 'Еда':'Из жизни', \n",
    " 'Рынки':'Экономика', \n",
    " 'Деньги':'Экономика',   \n",
    " 'Летние виды':'Спорт', \n",
    " 'Интернет':'Интернет и СМИ', \n",
    " 'Театр':'Культура', \n",
    " 'Конфликты':'Преступность', \n",
    " 'Реклама':'Из жизни',    \n",
    " 'Космос':'Наука и техника', \n",
    " 'Бокс и ММА':'Спорт', \n",
    " 'Футбол':'Спорт', \n",
    " 'Книги':'Из жизни', \n",
    " 'Зимние виды':'Спорт',    \n",
    " 'Достижения':'Наука и техника', \n",
    " 'Coцсети':'Интернет и СМИ', \n",
    " 'Вещи':'Из жизни', \n",
    " 'События':'Из жизни', \n",
    " 'Средняя Азия':'Мир',   \n",
    " 'Украина':'Мир', \n",
    " 'Закавказье':'Мир', \n",
    " 'Белоруссия':'Мир', \n",
    " 'Молдавия':'Мир', \n",
    " 'Софт':'Наука и техника',     \n",
    " 'Квартира':'Из жизни', \n",
    " 'Город':'Россия', \n",
    " 'Дача':'Из жизни', \n",
    " 'Офис':'Из жизни', \n",
    " 'Оружие':'Преступность', \n",
    " 'Мнения':'Из жизни',   \n",
    " 'Первая мировая':'Мир', \n",
    " 'Москва':'Россия', \n",
    " 'Регионы':'Россия', \n",
    " 'Полиция и спецслужбы':'Преступность',\n",
    " 'Криминал':'Преступность', \n",
    " 'Следствие и суд':'Преступность', \n",
    " 'Движение':'Из жизни', \n",
    " 'Производители':'Экономика',    \n",
    " 'Мировой бизнес':'Экономика', \n",
    " 'Финансы компаний':'Экономика', \n",
    " 'Деловой климат':'Россия', \n",
    " 'Мир':'Мир',\n",
    " 'Россия':'Россия', \n",
    " 'Часы':'Из жизни', \n",
    " 'Явления':'Наука и техника', \n",
    " 'Стиль':'Из жизни', \n",
    " 'Инструменты':'Наука и техника', \n",
    " 'Вооружение':'Преступность',  \n",
    " 'Вкусы':'Из жизни', \n",
    " 'Страноведение':'Мир', \n",
    " 'Госрегулирование':'Россия', \n",
    " 'История':'Культура',    \n",
    " 'Внешний вид':'Из жизни', \n",
    " 'Автобизнес':'Экономика', \n",
    " 'Аналитика рынка':'Экономика', \n",
    " 'Туризм':'Из жизни', \n",
    " 'Выборы':'Россия',   \n",
    " 'Экология':'Мир', \n",
    " 'Мемы':'Интернет и СМИ', \n",
    " 'Мировой опыт':'Мир', \n",
    " 'Инновации':'Экономика', \n",
    " 'Хоккей':'Спорт', \n",
    " 'Вирусные ролики':'Интернет и СМИ', \n",
    " 'Фотография':'Из жизни', \n",
    " 'Авто':'Из жизни', \n",
    " 'Наследие':'Россия',\n",
    " 'Преступная Россия':'Преступность', \n",
    " 'Жизнь':'Из жизни', \n",
    " 'Киберпреступность':'Преступность',\n",
    " 'Социальная сфера':'Из жизни', \n",
    " 'Казахстан':'Мир', \n",
    " '69-я параллель':'Из жизни', \n",
    " 'Экономика':'Экономика', \n",
    " 'Нацпроекты':'Экономика', \n",
    " 'Английский футбол':'Спорт',\n",
    " 'Россия':'Россия', \n",
    " 'Спорт':'Спорт',  \n",
    " 'Мир':'Мир', \n",
    " 'Из жизни':'Из жизни',\n",
    " 'Интернет и СМИ':'Интернет и СМИ', \n",
    " 'Культура':'Культура', \n",
    " 'Силовые структуры':'Преступность',    \n",
    " 'Наука и техника':'Наука и техника', \n",
    " 'Бывший СССР':'Мир', \n",
    " 'Дом':'Из жизни', \n",
    " 'Сочи':'Россия', \n",
    " 'ЧМ-2014':'Спорт',     \n",
    " 'Путешествия':'Мир', \n",
    " 'Библиотека':'Культура', \n",
    " 'Ценности':'Экономика', \n",
    " 'Легпром':'Экономика', \n",
    " 'Бизнес':'Экономика',\n",
    " 'МедНовости':'Экономика', \n",
    " 'Оружие':'Преступность', \n",
    " 'Культпросвет':'Культура', \n",
    " 'Крым':'Россия'}"
   ]
  },
  {
   "cell_type": "code",
   "execution_count": 9,
   "metadata": {},
   "outputs": [
    {
     "data": {
      "text/html": [
       "<div>\n",
       "<style scoped>\n",
       "    .dataframe tbody tr th:only-of-type {\n",
       "        vertical-align: middle;\n",
       "    }\n",
       "\n",
       "    .dataframe tbody tr th {\n",
       "        vertical-align: top;\n",
       "    }\n",
       "\n",
       "    .dataframe thead th {\n",
       "        text-align: right;\n",
       "    }\n",
       "</style>\n",
       "<table border=\"1\" class=\"dataframe\">\n",
       "  <thead>\n",
       "    <tr style=\"text-align: right;\">\n",
       "      <th></th>\n",
       "      <th>0</th>\n",
       "    </tr>\n",
       "  </thead>\n",
       "  <tbody>\n",
       "    <tr>\n",
       "      <th>0</th>\n",
       "      <td>c</td>\n",
       "    </tr>\n",
       "    <tr>\n",
       "      <th>1</th>\n",
       "      <td>а</td>\n",
       "    </tr>\n",
       "    <tr>\n",
       "      <th>2</th>\n",
       "      <td>алло</td>\n",
       "    </tr>\n",
       "    <tr>\n",
       "      <th>3</th>\n",
       "      <td>без</td>\n",
       "    </tr>\n",
       "    <tr>\n",
       "      <th>4</th>\n",
       "      <td>белый</td>\n",
       "    </tr>\n",
       "    <tr>\n",
       "      <th>...</th>\n",
       "      <td>...</td>\n",
       "    </tr>\n",
       "    <tr>\n",
       "      <th>554</th>\n",
       "      <td>этому</td>\n",
       "    </tr>\n",
       "    <tr>\n",
       "      <th>555</th>\n",
       "      <td>этот</td>\n",
       "    </tr>\n",
       "    <tr>\n",
       "      <th>556</th>\n",
       "      <td>эту</td>\n",
       "    </tr>\n",
       "    <tr>\n",
       "      <th>557</th>\n",
       "      <td>я</td>\n",
       "    </tr>\n",
       "    <tr>\n",
       "      <th>558</th>\n",
       "      <td>являюсь</td>\n",
       "    </tr>\n",
       "  </tbody>\n",
       "</table>\n",
       "<p>559 rows × 1 columns</p>\n",
       "</div>"
      ],
      "text/plain": [
       "           0\n",
       "0          c\n",
       "1          а\n",
       "2       алло\n",
       "3        без\n",
       "4      белый\n",
       "..       ...\n",
       "554    этому\n",
       "555     этот\n",
       "556      эту\n",
       "557        я\n",
       "558  являюсь\n",
       "\n",
       "[559 rows x 1 columns]"
      ]
     },
     "execution_count": 9,
     "metadata": {},
     "output_type": "execute_result"
    }
   ],
   "source": [
    "stop = pd.read_csv('data/stopwords.txt', header=None)\n",
    "stop"
   ]
  },
  {
   "cell_type": "code",
   "execution_count": 10,
   "metadata": {},
   "outputs": [
    {
     "data": {
      "text/html": [
       "<div>\n",
       "<style scoped>\n",
       "    .dataframe tbody tr th:only-of-type {\n",
       "        vertical-align: middle;\n",
       "    }\n",
       "\n",
       "    .dataframe tbody tr th {\n",
       "        vertical-align: top;\n",
       "    }\n",
       "\n",
       "    .dataframe thead th {\n",
       "        text-align: right;\n",
       "    }\n",
       "</style>\n",
       "<table border=\"1\" class=\"dataframe\">\n",
       "  <thead>\n",
       "    <tr style=\"text-align: right;\">\n",
       "      <th></th>\n",
       "      <th>url</th>\n",
       "      <th>title</th>\n",
       "      <th>text</th>\n",
       "      <th>topic</th>\n",
       "      <th>tags</th>\n",
       "      <th>date</th>\n",
       "    </tr>\n",
       "  </thead>\n",
       "  <tbody>\n",
       "    <tr>\n",
       "      <th>19262</th>\n",
       "      <td>https://lenta.ru/news/2001/01/01/fire/</td>\n",
       "      <td>Пожар в жилом доме в центре Москвы ликвидирован</td>\n",
       "      <td>Пожар в Москве в жилом здании на Новинском бул...</td>\n",
       "      <td>Россия</td>\n",
       "      <td>Все</td>\n",
       "      <td>2001</td>\n",
       "    </tr>\n",
       "    <tr>\n",
       "      <th>19263</th>\n",
       "      <td>https://lenta.ru/news/2001/01/01/junior/</td>\n",
       "      <td>Хоккеисты молодежной сборной России проиграли ...</td>\n",
       "      <td>Молодежная сборная России по хоккею не получит...</td>\n",
       "      <td>Спорт</td>\n",
       "      <td>Все</td>\n",
       "      <td>2001</td>\n",
       "    </tr>\n",
       "    <tr>\n",
       "      <th>19264</th>\n",
       "      <td>https://lenta.ru/news/2001/01/01/newlife/</td>\n",
       "      <td>Российская экономика третьего тысячелетия: нов...</td>\n",
       "      <td>Минимальный размер оплаты труда в России с 1 я...</td>\n",
       "      <td>Экономика</td>\n",
       "      <td>Все</td>\n",
       "      <td>2001</td>\n",
       "    </tr>\n",
       "    <tr>\n",
       "      <th>19265</th>\n",
       "      <td>https://lenta.ru/news/2001/01/01/tennis/</td>\n",
       "      <td>Кафельников и Южный выигрывают первые матчи се...</td>\n",
       "      <td>В первую неделю нового года начался новый тенн...</td>\n",
       "      <td>Спорт</td>\n",
       "      <td>Все</td>\n",
       "      <td>2001</td>\n",
       "    </tr>\n",
       "    <tr>\n",
       "      <th>19266</th>\n",
       "      <td>https://lenta.ru/news/2001/01/01/spb/</td>\n",
       "      <td>Новогодняя петарда устроила пожар на Дворцовой...</td>\n",
       "      <td>В новогоднюю ночь на Дворцовой площади Санкт-П...</td>\n",
       "      <td>Россия</td>\n",
       "      <td>Все</td>\n",
       "      <td>2001</td>\n",
       "    </tr>\n",
       "    <tr>\n",
       "      <th>...</th>\n",
       "      <td>...</td>\n",
       "      <td>...</td>\n",
       "      <td>...</td>\n",
       "      <td>...</td>\n",
       "      <td>...</td>\n",
       "      <td>...</td>\n",
       "    </tr>\n",
       "    <tr>\n",
       "      <th>800970</th>\n",
       "      <td>https://lenta.ru/news/2019/12/14/shnur/</td>\n",
       "      <td>Шнуров раскритиковал Гагарину на «Голосе»</td>\n",
       "      <td>Певец Сергей Шнуров раскритиковал свою коллегу...</td>\n",
       "      <td>NaN</td>\n",
       "      <td>ТВ и радио</td>\n",
       "      <td>2019</td>\n",
       "    </tr>\n",
       "    <tr>\n",
       "      <th>800971</th>\n",
       "      <td>https://lenta.ru/news/2019/12/14/dolg/</td>\n",
       "      <td>В России предложили изменить правила взыскания...</td>\n",
       "      <td>Министерство юстиции России предложило изменит...</td>\n",
       "      <td>NaN</td>\n",
       "      <td>Все</td>\n",
       "      <td>2019</td>\n",
       "    </tr>\n",
       "    <tr>\n",
       "      <th>800972</th>\n",
       "      <td>https://lenta.ru/news/2019/12/14/dark_euro/</td>\n",
       "      <td>В России назвали «черную дату» для Европы</td>\n",
       "      <td>Испытание США ранее запрещенной Договором о ли...</td>\n",
       "      <td>NaN</td>\n",
       "      <td>Политика</td>\n",
       "      <td>2019</td>\n",
       "    </tr>\n",
       "    <tr>\n",
       "      <th>800973</th>\n",
       "      <td>https://lenta.ru/news/2019/12/14/meteo/</td>\n",
       "      <td>Россиянам пообещали аномально теплую погоду</td>\n",
       "      <td>В ближайшие дни в европейской части России пог...</td>\n",
       "      <td>NaN</td>\n",
       "      <td>Общество</td>\n",
       "      <td>2019</td>\n",
       "    </tr>\n",
       "    <tr>\n",
       "      <th>800974</th>\n",
       "      <td>https://lenta.ru/news/2019/12/14/olimp/</td>\n",
       "      <td>В конкурсе прогнозов на АПЛ разыграют 100 тыся...</td>\n",
       "      <td>Ведущие футбольные чемпионаты ушли на зимние к...</td>\n",
       "      <td>NaN</td>\n",
       "      <td>Английский футбол</td>\n",
       "      <td>2019</td>\n",
       "    </tr>\n",
       "  </tbody>\n",
       "</table>\n",
       "<p>781713 rows × 6 columns</p>\n",
       "</div>"
      ],
      "text/plain": [
       "                                                url  \\\n",
       "19262        https://lenta.ru/news/2001/01/01/fire/   \n",
       "19263      https://lenta.ru/news/2001/01/01/junior/   \n",
       "19264     https://lenta.ru/news/2001/01/01/newlife/   \n",
       "19265      https://lenta.ru/news/2001/01/01/tennis/   \n",
       "19266         https://lenta.ru/news/2001/01/01/spb/   \n",
       "...                                             ...   \n",
       "800970      https://lenta.ru/news/2019/12/14/shnur/   \n",
       "800971       https://lenta.ru/news/2019/12/14/dolg/   \n",
       "800972  https://lenta.ru/news/2019/12/14/dark_euro/   \n",
       "800973      https://lenta.ru/news/2019/12/14/meteo/   \n",
       "800974      https://lenta.ru/news/2019/12/14/olimp/   \n",
       "\n",
       "                                                    title  \\\n",
       "19262     Пожар в жилом доме в центре Москвы ликвидирован   \n",
       "19263   Хоккеисты молодежной сборной России проиграли ...   \n",
       "19264   Российская экономика третьего тысячелетия: нов...   \n",
       "19265   Кафельников и Южный выигрывают первые матчи се...   \n",
       "19266   Новогодняя петарда устроила пожар на Дворцовой...   \n",
       "...                                                   ...   \n",
       "800970          Шнуров раскритиковал Гагарину на «Голосе»   \n",
       "800971  В России предложили изменить правила взыскания...   \n",
       "800972          В России назвали «черную дату» для Европы   \n",
       "800973        Россиянам пообещали аномально теплую погоду   \n",
       "800974  В конкурсе прогнозов на АПЛ разыграют 100 тыся...   \n",
       "\n",
       "                                                     text      topic  \\\n",
       "19262   Пожар в Москве в жилом здании на Новинском бул...     Россия   \n",
       "19263   Молодежная сборная России по хоккею не получит...      Спорт   \n",
       "19264   Минимальный размер оплаты труда в России с 1 я...  Экономика   \n",
       "19265   В первую неделю нового года начался новый тенн...      Спорт   \n",
       "19266   В новогоднюю ночь на Дворцовой площади Санкт-П...     Россия   \n",
       "...                                                   ...        ...   \n",
       "800970  Певец Сергей Шнуров раскритиковал свою коллегу...        NaN   \n",
       "800971  Министерство юстиции России предложило изменит...        NaN   \n",
       "800972  Испытание США ранее запрещенной Договором о ли...        NaN   \n",
       "800973  В ближайшие дни в европейской части России пог...        NaN   \n",
       "800974  Ведущие футбольные чемпионаты ушли на зимние к...        NaN   \n",
       "\n",
       "                     tags  date  \n",
       "19262                 Все  2001  \n",
       "19263                 Все  2001  \n",
       "19264                 Все  2001  \n",
       "19265                 Все  2001  \n",
       "19266                 Все  2001  \n",
       "...                   ...   ...  \n",
       "800970         ТВ и радио  2019  \n",
       "800971                Все  2019  \n",
       "800972           Политика  2019  \n",
       "800973           Общество  2019  \n",
       "800974  Английский футбол  2019  \n",
       "\n",
       "[781713 rows x 6 columns]"
      ]
     },
     "execution_count": 10,
     "metadata": {},
     "output_type": "execute_result"
    }
   ],
   "source": [
    "train"
   ]
  },
  {
   "cell_type": "code",
   "execution_count": 11,
   "metadata": {},
   "outputs": [
    {
     "name": "stderr",
     "output_type": "stream",
     "text": [
      "C:\\Users\\krvet\\AppData\\Local\\Temp/ipykernel_15812/2504897993.py:1: FutureWarning: The default value of regex will change from True to False in a future version.\n",
      "  data_2 = pd.DataFrame(train['text'].str.replace('[^\\w\\s]', ''))\n",
      "C:\\Users\\krvet\\AppData\\Local\\Temp/ipykernel_15812/2504897993.py:2: FutureWarning: The default value of regex will change from True to False in a future version.\n",
      "  data_2['text'] = pd.DataFrame(train['title'].str.replace('[^\\w\\s]', '').str.lower() + data_2['text'].str.lower())\n"
     ]
    },
    {
     "data": {
      "text/html": [
       "<div>\n",
       "<style scoped>\n",
       "    .dataframe tbody tr th:only-of-type {\n",
       "        vertical-align: middle;\n",
       "    }\n",
       "\n",
       "    .dataframe tbody tr th {\n",
       "        vertical-align: top;\n",
       "    }\n",
       "\n",
       "    .dataframe thead th {\n",
       "        text-align: right;\n",
       "    }\n",
       "</style>\n",
       "<table border=\"1\" class=\"dataframe\">\n",
       "  <thead>\n",
       "    <tr style=\"text-align: right;\">\n",
       "      <th></th>\n",
       "      <th>text</th>\n",
       "      <th>tags</th>\n",
       "      <th>topic</th>\n",
       "    </tr>\n",
       "  </thead>\n",
       "  <tbody>\n",
       "    <tr>\n",
       "      <th>19262</th>\n",
       "      <td>пожар в жилом доме в центре москвы ликвидирова...</td>\n",
       "      <td>Россия</td>\n",
       "      <td>Россия</td>\n",
       "    </tr>\n",
       "    <tr>\n",
       "      <th>19263</th>\n",
       "      <td>хоккеисты молодежной сборной россии проиграли ...</td>\n",
       "      <td>Спорт</td>\n",
       "      <td>Спорт</td>\n",
       "    </tr>\n",
       "    <tr>\n",
       "      <th>19264</th>\n",
       "      <td>российская экономика третьего тысячелетия новы...</td>\n",
       "      <td>Экономика</td>\n",
       "      <td>Экономика</td>\n",
       "    </tr>\n",
       "    <tr>\n",
       "      <th>19265</th>\n",
       "      <td>кафельников и южный выигрывают первые матчи се...</td>\n",
       "      <td>Спорт</td>\n",
       "      <td>Спорт</td>\n",
       "    </tr>\n",
       "    <tr>\n",
       "      <th>19266</th>\n",
       "      <td>новогодняя петарда устроила пожар на дворцовой...</td>\n",
       "      <td>Россия</td>\n",
       "      <td>Россия</td>\n",
       "    </tr>\n",
       "    <tr>\n",
       "      <th>...</th>\n",
       "      <td>...</td>\n",
       "      <td>...</td>\n",
       "      <td>...</td>\n",
       "    </tr>\n",
       "    <tr>\n",
       "      <th>800970</th>\n",
       "      <td>шнуров раскритиковал гагарину на голосепевец с...</td>\n",
       "      <td>ТВ и радио</td>\n",
       "      <td>NaN</td>\n",
       "    </tr>\n",
       "    <tr>\n",
       "      <th>800971</th>\n",
       "      <td>в россии предложили изменить правила взыскания...</td>\n",
       "      <td>NaN</td>\n",
       "      <td>NaN</td>\n",
       "    </tr>\n",
       "    <tr>\n",
       "      <th>800972</th>\n",
       "      <td>в россии назвали черную дату для европыиспытан...</td>\n",
       "      <td>Политика</td>\n",
       "      <td>NaN</td>\n",
       "    </tr>\n",
       "    <tr>\n",
       "      <th>800973</th>\n",
       "      <td>россиянам пообещали аномально теплую погодув б...</td>\n",
       "      <td>Общество</td>\n",
       "      <td>NaN</td>\n",
       "    </tr>\n",
       "    <tr>\n",
       "      <th>800974</th>\n",
       "      <td>в конкурсе прогнозов на апл разыграют 100 тыся...</td>\n",
       "      <td>Английский футбол</td>\n",
       "      <td>NaN</td>\n",
       "    </tr>\n",
       "  </tbody>\n",
       "</table>\n",
       "<p>781713 rows × 3 columns</p>\n",
       "</div>"
      ],
      "text/plain": [
       "                                                     text               tags  \\\n",
       "19262   пожар в жилом доме в центре москвы ликвидирова...             Россия   \n",
       "19263   хоккеисты молодежной сборной россии проиграли ...              Спорт   \n",
       "19264   российская экономика третьего тысячелетия новы...          Экономика   \n",
       "19265   кафельников и южный выигрывают первые матчи се...              Спорт   \n",
       "19266   новогодняя петарда устроила пожар на дворцовой...             Россия   \n",
       "...                                                   ...                ...   \n",
       "800970  шнуров раскритиковал гагарину на голосепевец с...         ТВ и радио   \n",
       "800971  в россии предложили изменить правила взыскания...                NaN   \n",
       "800972  в россии назвали черную дату для европыиспытан...           Политика   \n",
       "800973  россиянам пообещали аномально теплую погодув б...           Общество   \n",
       "800974  в конкурсе прогнозов на апл разыграют 100 тыся...  Английский футбол   \n",
       "\n",
       "            topic  \n",
       "19262      Россия  \n",
       "19263       Спорт  \n",
       "19264   Экономика  \n",
       "19265       Спорт  \n",
       "19266      Россия  \n",
       "...           ...  \n",
       "800970        NaN  \n",
       "800971        NaN  \n",
       "800972        NaN  \n",
       "800973        NaN  \n",
       "800974        NaN  \n",
       "\n",
       "[781713 rows x 3 columns]"
      ]
     },
     "execution_count": 11,
     "metadata": {},
     "output_type": "execute_result"
    }
   ],
   "source": [
    "data_2 = pd.DataFrame(train['text'].str.replace('[^\\w\\s]', ''))\n",
    "data_2['text'] = pd.DataFrame(train['title'].str.replace('[^\\w\\s]', '').str.lower() + data_2['text'].str.lower())\n",
    "data_2['tags'] = train['tags']\n",
    "data_2['topic'] = train['topic']\n",
    "for i in range(len(data_2['tags'])):\n",
    "    if data_2.tags.iloc(0)[i] == \"Все\":\n",
    "        data_2.tags.iloc(0)[i] = data_2.topic.iloc(0)[i]\n",
    "\n",
    "data_2"
   ]
  },
  {
   "cell_type": "code",
   "execution_count": 12,
   "metadata": {},
   "outputs": [
    {
     "data": {
      "text/html": [
       "<div>\n",
       "<style scoped>\n",
       "    .dataframe tbody tr th:only-of-type {\n",
       "        vertical-align: middle;\n",
       "    }\n",
       "\n",
       "    .dataframe tbody tr th {\n",
       "        vertical-align: top;\n",
       "    }\n",
       "\n",
       "    .dataframe thead th {\n",
       "        text-align: right;\n",
       "    }\n",
       "</style>\n",
       "<table border=\"1\" class=\"dataframe\">\n",
       "  <thead>\n",
       "    <tr style=\"text-align: right;\">\n",
       "      <th></th>\n",
       "      <th>text</th>\n",
       "      <th>tags</th>\n",
       "    </tr>\n",
       "  </thead>\n",
       "  <tbody>\n",
       "    <tr>\n",
       "      <th>19262</th>\n",
       "      <td>пожар в жилом доме в центре москвы ликвидирова...</td>\n",
       "      <td>[Россия]</td>\n",
       "    </tr>\n",
       "    <tr>\n",
       "      <th>19263</th>\n",
       "      <td>хоккеисты молодежной сборной россии проиграли ...</td>\n",
       "      <td>[Спорт]</td>\n",
       "    </tr>\n",
       "    <tr>\n",
       "      <th>19264</th>\n",
       "      <td>российская экономика третьего тысячелетия новы...</td>\n",
       "      <td>[Экономика]</td>\n",
       "    </tr>\n",
       "    <tr>\n",
       "      <th>19265</th>\n",
       "      <td>кафельников и южный выигрывают первые матчи се...</td>\n",
       "      <td>[Спорт]</td>\n",
       "    </tr>\n",
       "    <tr>\n",
       "      <th>19266</th>\n",
       "      <td>новогодняя петарда устроила пожар на дворцовой...</td>\n",
       "      <td>[Россия]</td>\n",
       "    </tr>\n",
       "    <tr>\n",
       "      <th>...</th>\n",
       "      <td>...</td>\n",
       "      <td>...</td>\n",
       "    </tr>\n",
       "    <tr>\n",
       "      <th>800968</th>\n",
       "      <td>белоруссия одолжит у китая 500 миллионов долла...</td>\n",
       "      <td>[Экономика]</td>\n",
       "    </tr>\n",
       "    <tr>\n",
       "      <th>800970</th>\n",
       "      <td>шнуров раскритиковал гагарину на голосепевец с...</td>\n",
       "      <td>[Интернет и СМИ]</td>\n",
       "    </tr>\n",
       "    <tr>\n",
       "      <th>800972</th>\n",
       "      <td>в россии назвали черную дату для европыиспытан...</td>\n",
       "      <td>[Мир]</td>\n",
       "    </tr>\n",
       "    <tr>\n",
       "      <th>800973</th>\n",
       "      <td>россиянам пообещали аномально теплую погодув б...</td>\n",
       "      <td>[Из жизни]</td>\n",
       "    </tr>\n",
       "    <tr>\n",
       "      <th>800974</th>\n",
       "      <td>в конкурсе прогнозов на апл разыграют 100 тыся...</td>\n",
       "      <td>[Спорт]</td>\n",
       "    </tr>\n",
       "  </tbody>\n",
       "</table>\n",
       "<p>754312 rows × 2 columns</p>\n",
       "</div>"
      ],
      "text/plain": [
       "                                                     text              tags\n",
       "19262   пожар в жилом доме в центре москвы ликвидирова...          [Россия]\n",
       "19263   хоккеисты молодежной сборной россии проиграли ...           [Спорт]\n",
       "19264   российская экономика третьего тысячелетия новы...       [Экономика]\n",
       "19265   кафельников и южный выигрывают первые матчи се...           [Спорт]\n",
       "19266   новогодняя петарда устроила пожар на дворцовой...          [Россия]\n",
       "...                                                   ...               ...\n",
       "800968  белоруссия одолжит у китая 500 миллионов долла...       [Экономика]\n",
       "800970  шнуров раскритиковал гагарину на голосепевец с...  [Интернет и СМИ]\n",
       "800972  в россии назвали черную дату для европыиспытан...             [Мир]\n",
       "800973  россиянам пообещали аномально теплую погодув б...        [Из жизни]\n",
       "800974  в конкурсе прогнозов на апл разыграют 100 тыся...           [Спорт]\n",
       "\n",
       "[754312 rows x 2 columns]"
      ]
     },
     "execution_count": 12,
     "metadata": {},
     "output_type": "execute_result"
    }
   ],
   "source": [
    "data = pd.DataFrame()\n",
    "data['text'] = data_2['text']\n",
    "data['tags'] = data_2['tags']\n",
    "data = data.dropna()\n",
    "data['tags'] = data.tags.apply(lambda i: topic[i])\n",
    "genres = data.tags.unique()\n",
    "data['tags'] = data.tags.apply(lambda i: [i])\n",
    "data"
   ]
  },
  {
   "cell_type": "code",
   "execution_count": 44,
   "metadata": {},
   "outputs": [
    {
     "data": {
      "text/plain": [
       "text    в петербурге прошли похороны 11 моряков с курс...\n",
       "tags                                             [Россия]\n",
       "Name: 38526, dtype: object"
      ]
     },
     "execution_count": 44,
     "metadata": {},
     "output_type": "execute_result"
    }
   ],
   "source": [
    "data.iloc[]"
   ]
  },
  {
   "cell_type": "code",
   "execution_count": 13,
   "metadata": {},
   "outputs": [
    {
     "data": {
      "text/plain": [
       "array(['Россия', 'Спорт', 'Экономика', 'Мир', 'Из жизни',\n",
       "       'Интернет и СМИ', 'Культура', 'Наука и техника', 'Преступность'],\n",
       "      dtype=object)"
      ]
     },
     "execution_count": 13,
     "metadata": {},
     "output_type": "execute_result"
    }
   ],
   "source": [
    "genres"
   ]
  },
  {
   "cell_type": "markdown",
   "metadata": {},
   "source": [
    "# Классификация"
   ]
  },
  {
   "cell_type": "code",
   "execution_count": 14,
   "metadata": {},
   "outputs": [],
   "source": [
    "train_data, test_data, Y, Y_test = model_selection.train_test_split(data.text, data.tags, test_size = 0.1, random_state = 42)"
   ]
  },
  {
   "cell_type": "code",
   "execution_count": 15,
   "metadata": {},
   "outputs": [],
   "source": [
    "lb = preprocessing.MultiLabelBinarizer(classes = genres)\n",
    "train_ans = pd.DataFrame(lb.fit_transform(Y), columns = genres)\n",
    "test_ans = pd.DataFrame(lb.fit_transform(Y_test), columns = genres)"
   ]
  },
  {
   "cell_type": "code",
   "execution_count": 62,
   "metadata": {},
   "outputs": [
    {
     "data": {
      "text/plain": [
       "716116    в результате крушения катамарана на волге поги...\n",
       "353423    суд разрешил арестовать контролера из управлен...\n",
       "254135    в европе началась неделя толерантностив воскре...\n",
       "443592    на аукционе продали котелок и трость чарли чап...\n",
       "755736    появилась версия волны терактов в шриланкемасш...\n",
       "                                ...                        \n",
       "675466    сотрудница мособлсуда рассказала об устроенной...\n",
       "537620    альтернативные земным формы жизни допустили на...\n",
       "414122    оак заподозрили в попытке уволить тысячу сотру...\n",
       "568684    американские военные попытались ликвидировать ...\n",
       "606359    названы самые интеллигентные районы центра мос...\n",
       "Name: text, Length: 75432, dtype: object"
      ]
     },
     "execution_count": 62,
     "metadata": {},
     "output_type": "execute_result"
    }
   ],
   "source": [
    "test_data"
   ]
  },
  {
   "cell_type": "markdown",
   "metadata": {},
   "source": [
    "**Modeling**"
   ]
  },
  {
   "cell_type": "code",
   "execution_count": 17,
   "metadata": {},
   "outputs": [],
   "source": [
    "model = multiclass.OneVsRestClassifier(estimator= naive_bayes.BernoulliNB())"
   ]
  },
  {
   "cell_type": "code",
   "execution_count": 18,
   "metadata": {},
   "outputs": [],
   "source": [
    "tfidf_pipe = pipeline.Pipeline(steps = [('vectorizer', TfidfVectorizer(min_df = 2, max_df = 1000)), \n",
    "                                        ('classifier', model)])"
   ]
  },
  {
   "cell_type": "code",
   "execution_count": 19,
   "metadata": {
    "scrolled": false
   },
   "outputs": [
    {
     "data": {
      "text/plain": [
       "Pipeline(steps=[('vectorizer', TfidfVectorizer(max_df=1000, min_df=2)),\n",
       "                ('classifier', OneVsRestClassifier(estimator=BernoulliNB()))])"
      ]
     },
     "execution_count": 19,
     "metadata": {},
     "output_type": "execute_result"
    }
   ],
   "source": [
    "tfidf_pipe.fit(train_data, train_ans)"
   ]
  },
  {
   "cell_type": "code",
   "execution_count": 20,
   "metadata": {},
   "outputs": [],
   "source": [
    "predict = tfidf_pipe.predict(test_data)"
   ]
  },
  {
   "cell_type": "code",
   "execution_count": 23,
   "metadata": {},
   "outputs": [
    {
     "data": {
      "text/plain": [
       "0.7289214126630608"
      ]
     },
     "execution_count": 23,
     "metadata": {},
     "output_type": "execute_result"
    }
   ],
   "source": [
    "qwer = pd.DataFrame(predict, columns = genres)\n",
    "metrics.f1_score(test_ans, qwer, average = 'samples')"
   ]
  },
  {
   "cell_type": "code",
   "execution_count": 86,
   "metadata": {},
   "outputs": [
    {
     "data": {
      "text/plain": [
       "text    вкус других объявлен лучшим французским фильмо...\n",
       "tags                                           [Культура]\n",
       "Name: 22484, dtype: object"
      ]
     },
     "execution_count": 86,
     "metadata": {},
     "output_type": "execute_result"
    }
   ],
   "source": [
    "a = data.iloc[3222]\n",
    "x = pd.DataFrame()\n",
    "a"
   ]
  },
  {
   "cell_type": "code",
   "execution_count": 87,
   "metadata": {},
   "outputs": [],
   "source": [
    "x['text'] = [a.text.replace('[^\\w\\s]', '').lower()]"
   ]
  },
  {
   "cell_type": "code",
   "execution_count": 88,
   "metadata": {},
   "outputs": [
    {
     "data": {
      "text/html": [
       "<div>\n",
       "<style scoped>\n",
       "    .dataframe tbody tr th:only-of-type {\n",
       "        vertical-align: middle;\n",
       "    }\n",
       "\n",
       "    .dataframe tbody tr th {\n",
       "        vertical-align: top;\n",
       "    }\n",
       "\n",
       "    .dataframe thead th {\n",
       "        text-align: right;\n",
       "    }\n",
       "</style>\n",
       "<table border=\"1\" class=\"dataframe\">\n",
       "  <thead>\n",
       "    <tr style=\"text-align: right;\">\n",
       "      <th></th>\n",
       "      <th>text</th>\n",
       "    </tr>\n",
       "  </thead>\n",
       "  <tbody>\n",
       "    <tr>\n",
       "      <th>0</th>\n",
       "      <td>вкус других объявлен лучшим французским фильмо...</td>\n",
       "    </tr>\n",
       "  </tbody>\n",
       "</table>\n",
       "</div>"
      ],
      "text/plain": [
       "                                                text\n",
       "0  вкус других объявлен лучшим французским фильмо..."
      ]
     },
     "execution_count": 88,
     "metadata": {},
     "output_type": "execute_result"
    }
   ],
   "source": [
    "x"
   ]
  },
  {
   "cell_type": "code",
   "execution_count": 93,
   "metadata": {},
   "outputs": [
    {
     "data": {
      "text/plain": [
       "array([[0, 0, 0, 0, 0, 0, 1, 0, 0]])"
      ]
     },
     "execution_count": 93,
     "metadata": {},
     "output_type": "execute_result"
    }
   ],
   "source": [
    "qw = tfidf_pipe.predict([a.text.replace('[^\\w\\s]', '').lower()])\n",
    "qw"
   ]
  },
  {
   "cell_type": "code",
   "execution_count": 92,
   "metadata": {},
   "outputs": [
    {
     "data": {
      "text/plain": [
       "Россия             0\n",
       "Спорт              0\n",
       "Экономика          0\n",
       "Мир                0\n",
       "Из жизни           0\n",
       "Интернет и СМИ     0\n",
       "Культура           1\n",
       "Наука и техника    0\n",
       "Преступность       0\n",
       "dtype: int32"
      ]
     },
     "execution_count": 92,
     "metadata": {},
     "output_type": "execute_result"
    }
   ],
   "source": [
    "pd.DataFrame(qw, columns = genres).max()"
   ]
  },
  {
   "cell_type": "code",
   "execution_count": 85,
   "metadata": {},
   "outputs": [],
   "source": [
    "pickle.dump(tfidf_pipe, open('model.save', 'wb'))"
   ]
  },
  {
   "cell_type": "code",
   "execution_count": 99,
   "metadata": {},
   "outputs": [
    {
     "ename": "NameError",
     "evalue": "name 'List' is not defined",
     "output_type": "error",
     "traceback": [
      "\u001b[1;31m---------------------------------------------------------------------------\u001b[0m",
      "\u001b[1;31mNameError\u001b[0m                                 Traceback (most recent call last)",
      "\u001b[1;32m~\\AppData\\Local\\Temp/ipykernel_15812/3433958619.py\u001b[0m in \u001b[0;36m<module>\u001b[1;34m\u001b[0m\n\u001b[1;32m----> 1\u001b[1;33m \u001b[1;32mclass\u001b[0m \u001b[0mClassificator\u001b[0m\u001b[1;33m(\u001b[0m\u001b[1;33m)\u001b[0m\u001b[1;33m:\u001b[0m\u001b[1;33m\u001b[0m\u001b[1;33m\u001b[0m\u001b[0m\n\u001b[0m\u001b[0;32m      2\u001b[0m     \u001b[1;32mdef\u001b[0m \u001b[0m__init__\u001b[0m\u001b[1;33m(\u001b[0m\u001b[0mself\u001b[0m\u001b[1;33m)\u001b[0m\u001b[1;33m:\u001b[0m\u001b[1;33m\u001b[0m\u001b[1;33m\u001b[0m\u001b[0m\n\u001b[0;32m      3\u001b[0m         \u001b[0mself\u001b[0m\u001b[1;33m.\u001b[0m\u001b[0mbuilder\u001b[0m \u001b[1;33m=\u001b[0m \u001b[0mpickle\u001b[0m\u001b[1;33m.\u001b[0m\u001b[0mload\u001b[0m\u001b[1;33m(\u001b[0m\u001b[0mopen\u001b[0m\u001b[1;33m(\u001b[0m\u001b[1;34m'model.save'\u001b[0m\u001b[1;33m,\u001b[0m \u001b[1;34m'rb'\u001b[0m\u001b[1;33m)\u001b[0m\u001b[1;33m)\u001b[0m\u001b[1;33m\u001b[0m\u001b[1;33m\u001b[0m\u001b[0m\n\u001b[0;32m      4\u001b[0m         \u001b[0mself\u001b[0m\u001b[1;33m.\u001b[0m\u001b[0mname\u001b[0m \u001b[1;33m=\u001b[0m \u001b[1;34m'Classificator'\u001b[0m\u001b[1;33m\u001b[0m\u001b[1;33m\u001b[0m\u001b[0m\n\u001b[0;32m      5\u001b[0m         self.ganers = ['Россия', 'Спорт', 'Экономика', 'Мир', 'Из жизни','Интернет и СМИ', 'Культура', \n",
      "\u001b[1;32m~\\AppData\\Local\\Temp/ipykernel_15812/3433958619.py\u001b[0m in \u001b[0;36mClassificator\u001b[1;34m()\u001b[0m\n\u001b[0;32m     17\u001b[0m \u001b[1;33m\u001b[0m\u001b[0m\n\u001b[0;32m     18\u001b[0m     \u001b[1;33m@\u001b[0m\u001b[0mstaticmethod\u001b[0m\u001b[1;33m\u001b[0m\u001b[1;33m\u001b[0m\u001b[0m\n\u001b[1;32m---> 19\u001b[1;33m     \u001b[1;32mdef\u001b[0m \u001b[0m_cut_non_cyrillic_characters\u001b[0m\u001b[1;33m(\u001b[0m\u001b[0mnews_texts\u001b[0m\u001b[1;33m:\u001b[0m \u001b[0mList\u001b[0m\u001b[1;33m[\u001b[0m\u001b[0mstr\u001b[0m\u001b[1;33m]\u001b[0m\u001b[1;33m)\u001b[0m \u001b[1;33m->\u001b[0m \u001b[0mList\u001b[0m\u001b[1;33m[\u001b[0m\u001b[0mstr\u001b[0m\u001b[1;33m]\u001b[0m\u001b[1;33m:\u001b[0m\u001b[1;33m\u001b[0m\u001b[1;33m\u001b[0m\u001b[0m\n\u001b[0m\u001b[0;32m     20\u001b[0m         \u001b[0mnews_texts\u001b[0m \u001b[1;33m=\u001b[0m \u001b[1;33m[\u001b[0m\u001b[0mtext\u001b[0m\u001b[1;33m.\u001b[0m\u001b[0mreplace\u001b[0m\u001b[1;33m(\u001b[0m\u001b[1;34m'[^\\w\\s]'\u001b[0m\u001b[1;33m,\u001b[0m \u001b[1;34m''\u001b[0m\u001b[1;33m)\u001b[0m\u001b[1;33m.\u001b[0m\u001b[0mlower\u001b[0m\u001b[1;33m(\u001b[0m\u001b[1;33m)\u001b[0m \u001b[1;32mfor\u001b[0m \u001b[0mtext\u001b[0m \u001b[1;32min\u001b[0m \u001b[0mnews_texts\u001b[0m\u001b[1;33m]\u001b[0m\u001b[1;33m\u001b[0m\u001b[1;33m\u001b[0m\u001b[0m\n\u001b[0;32m     21\u001b[0m         \u001b[1;32mreturn\u001b[0m \u001b[0mnews_texts\u001b[0m\u001b[1;33m\u001b[0m\u001b[1;33m\u001b[0m\u001b[0m\n",
      "\u001b[1;31mNameError\u001b[0m: name 'List' is not defined"
     ]
    }
   ],
   "source": [
    "class Classificator(Statistics):\n",
    "    def __init__(self):\n",
    "        self.builder = pickle.load(open('model.save', 'rb'))\n",
    "        self.name = 'Classificator'\n",
    "        self.ganers = ['Россия', 'Спорт', 'Экономика', 'Мир', 'Из жизни','Интернет и СМИ', 'Культура', \n",
    "                       'Наука и техника', 'Преступность']\n",
    "\n",
    "    def predict(self, news: List[News], *args, **kwargs) -> StatisticsModels:\n",
    "        news_texts = [one_news.content for one_news in news if one_news.content]\n",
    "        news_texts = self._cut_non_cyrillic_characters(news_texts)\n",
    "        if not news_texts:\n",
    "            return StatisticsModels(type=self.name, stats='none')\n",
    "        ans_list = self.builder.predict(news_texts)\n",
    "        ans_list = [self.ganers[np.where(ans == 1)[0][0]] for ans in ans_list]\n",
    "        \n",
    "        return StatisticsModels(type=self.name, stats=ans_list)\n",
    "\n",
    "    @staticmethod\n",
    "    def _cut_non_cyrillic_characters(news_texts: List[str]) -> List[str]:\n",
    "        news_texts = [text.replace('[^\\w\\s]', '').lower() for text in news_texts]\n",
    "        return news_texts"
   ]
  },
  {
   "cell_type": "code",
   "execution_count": 116,
   "metadata": {},
   "outputs": [],
   "source": [
    "class Classificator():\n",
    "    def __init__(self):\n",
    "        self.builder = pickle.load(open('model.save', 'rb'))\n",
    "        self.name = 'Classificator'\n",
    "        self.ganers = ['Россия', 'Спорт', 'Экономика', 'Мир', 'Из жизни','Интернет и СМИ', 'Культура', \n",
    "                       'Наука и техника', 'Преступность']\n",
    "\n",
    "    def predict(self, news):\n",
    "        news_texts = [one_news.text for one_news in news]\n",
    "        news_texts = self._cut_non_cyrillic_characters(news_texts)\n",
    "        ans_list = self.builder.predict(news_texts)\n",
    "        ans_list = [self.ganers[np.where(ans == 1)[0][0]] for ans in ans_list]\n",
    "        \n",
    "        return ans_list\n",
    "\n",
    "    @staticmethod\n",
    "    def _cut_non_cyrillic_characters(news_texts):\n",
    "        news_texts = [text.replace('[^\\w\\s]', '').lower() for text in news_texts]\n",
    "        return news_texts"
   ]
  },
  {
   "cell_type": "code",
   "execution_count": 117,
   "metadata": {},
   "outputs": [],
   "source": [
    "qwerty = Classificator()"
   ]
  },
  {
   "cell_type": "code",
   "execution_count": 118,
   "metadata": {},
   "outputs": [
    {
     "data": {
      "text/plain": [
       "['Культура', 'Россия', 'Экономика']"
      ]
     },
     "execution_count": 118,
     "metadata": {},
     "output_type": "execute_result"
    }
   ],
   "source": [
    "qwerty.predict([data.iloc[3222],data.iloc[312343],data.iloc[2]])"
   ]
  },
  {
   "cell_type": "code",
   "execution_count": 121,
   "metadata": {},
   "outputs": [
    {
     "data": {
      "text/plain": [
       "text    российская экономика третьего тысячелетия новы...\n",
       "tags                                          [Экономика]\n",
       "Name: 19264, dtype: object"
      ]
     },
     "execution_count": 121,
     "metadata": {},
     "output_type": "execute_result"
    }
   ],
   "source": []
  },
  {
   "cell_type": "code",
   "execution_count": 154,
   "metadata": {},
   "outputs": [
    {
     "name": "stdout",
     "output_type": "stream",
     "text": [
      "[100, 0.570239073728972]\n",
      "[200, 0.6543078849951265]\n",
      "[300, 0.6863665287941457]\n",
      "[400, 0.702159119029943]\n",
      "[500, 0.7115494750238627]\n",
      "[600, 0.7176030508714251]\n",
      "[700, 0.7221656591367058]\n",
      "[800, 0.7247189521688409]\n",
      "[900, 0.7275749460883091]\n",
      "[1000, 0.7289214126630608]\n"
     ]
    }
   ],
   "source": [
    "q = pd.DataFrame(columns = ['Score', 'F1'])\n",
    "for k in range(1, 11):\n",
    "    p = k * 100\n",
    "    tfidf_pipe = pipeline.Pipeline(steps = [('vectorizer', TfidfVectorizer(min_df = 2, max_df = 1000)), ('classifier', model)])\n",
    "    tfidf_pipe.fit(train_data, train_ans)\n",
    "    predict = tfidf_pipe.predict(test_data)\n",
    "    qwer = pd.DataFrame(predict, columns = genres)\n",
    "    t = metrics.f1_score(test_ans, qwer, average = 'samples')\n",
    "    print([p, t])"
   ]
  }
 ],
 "metadata": {
  "kernelspec": {
   "display_name": "Python 3 (ipykernel)",
   "language": "python",
   "name": "python3"
  },
  "language_info": {
   "codemirror_mode": {
    "name": "ipython",
    "version": 3
   },
   "file_extension": ".py",
   "mimetype": "text/x-python",
   "name": "python",
   "nbconvert_exporter": "python",
   "pygments_lexer": "ipython3",
   "version": "3.9.7"
  }
 },
 "nbformat": 4,
 "nbformat_minor": 2
}
