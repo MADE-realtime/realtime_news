{
 "cells": [
  {
   "cell_type": "code",
   "execution_count": 38,
   "metadata": {},
   "outputs": [],
   "source": [
    "import pandas as pd\n",
    "import seaborn as sns\n",
    "import matplotlib.pyplot as plt\n",
    "import os\n",
    "import fasttext\n",
    "from sklearn import cluster\n",
    "import re\n",
    "import string"
   ]
  },
  {
   "cell_type": "code",
   "execution_count": 88,
   "metadata": {},
   "outputs": [],
   "source": [
    "data_loc = '/home/cherepaha/Projects/made/3sem/realtime_news/news_data/'\n",
    "news_path = os.path.join(data_loc, 'social_network_news.csv')\n",
    "stats_path = os.path.join(data_loc, 'social_network_stats.csv')\n",
    "rss_path = os.path.join(data_loc, 'news.csv')"
   ]
  },
  {
   "cell_type": "code",
   "execution_count": 89,
   "metadata": {},
   "outputs": [],
   "source": [
    "news = pd.read_csv(news_path)\n",
    "stats = pd.read_csv(stats_path)\n",
    "rss = pd.read_csv(rss_path)"
   ]
  },
  {
   "cell_type": "code",
   "execution_count": 4,
   "metadata": {},
   "outputs": [
    {
     "data": {
      "text/html": [
       "<div>\n",
       "<style scoped>\n",
       "    .dataframe tbody tr th:only-of-type {\n",
       "        vertical-align: middle;\n",
       "    }\n",
       "\n",
       "    .dataframe tbody tr th {\n",
       "        vertical-align: top;\n",
       "    }\n",
       "\n",
       "    .dataframe thead th {\n",
       "        text-align: right;\n",
       "    }\n",
       "</style>\n",
       "<table border=\"1\" class=\"dataframe\">\n",
       "  <thead>\n",
       "    <tr style=\"text-align: right;\">\n",
       "      <th></th>\n",
       "      <th>id</th>\n",
       "      <th>post_id</th>\n",
       "      <th>text</th>\n",
       "      <th>date</th>\n",
       "      <th>time</th>\n",
       "      <th>comments</th>\n",
       "      <th>likes</th>\n",
       "      <th>reposts</th>\n",
       "      <th>views</th>\n",
       "      <th>link</th>\n",
       "      <th>source_name</th>\n",
       "      <th>social_network</th>\n",
       "    </tr>\n",
       "  </thead>\n",
       "  <tbody>\n",
       "    <tr>\n",
       "      <th>0</th>\n",
       "      <td>1885214</td>\n",
       "      <td>17828455</td>\n",
       "      <td>В какой-то момент учёные начали сомневаться в ...</td>\n",
       "      <td>2021-12-18</td>\n",
       "      <td>2021-12-18 11:01:05.000000</td>\n",
       "      <td>2</td>\n",
       "      <td>9</td>\n",
       "      <td>2.0</td>\n",
       "      <td>3780.0</td>\n",
       "      <td>{https://life.ru/p/1457797}</td>\n",
       "      <td>life.ru</td>\n",
       "      <td>vk</td>\n",
       "    </tr>\n",
       "    <tr>\n",
       "      <th>1</th>\n",
       "      <td>1033381</td>\n",
       "      <td>30621</td>\n",
       "      <td>Цена газа в Европе уже превысила 1400 долларов...</td>\n",
       "      <td>2021-12-14</td>\n",
       "      <td>2021-12-14 07:20:20.000000</td>\n",
       "      <td>0</td>\n",
       "      <td>0</td>\n",
       "      <td>0.0</td>\n",
       "      <td>10.0</td>\n",
       "      <td>{https://1prime.ru/gas/20211214/835500297.html}</td>\n",
       "      <td>1prime.ru</td>\n",
       "      <td>vk</td>\n",
       "    </tr>\n",
       "    <tr>\n",
       "      <th>2</th>\n",
       "      <td>424396</td>\n",
       "      <td>920132</td>\n",
       "      <td>Женская индивидуальная гонка свободным стилем ...</td>\n",
       "      <td>2021-12-12</td>\n",
       "      <td>2021-12-12 14:41:02.000000</td>\n",
       "      <td>0</td>\n",
       "      <td>1</td>\n",
       "      <td>0.0</td>\n",
       "      <td>246.0</td>\n",
       "      <td>{}</td>\n",
       "      <td>www.mk.ru</td>\n",
       "      <td>vk</td>\n",
       "    </tr>\n",
       "    <tr>\n",
       "      <th>3</th>\n",
       "      <td>525</td>\n",
       "      <td>1417279</td>\n",
       "      <td>Американский Институт цвета Pantone назвал нов...</td>\n",
       "      <td>2021-12-09</td>\n",
       "      <td>2021-12-09 12:44:52.000000</td>\n",
       "      <td>0</td>\n",
       "      <td>0</td>\n",
       "      <td>1.0</td>\n",
       "      <td>180.0</td>\n",
       "      <td>{}</td>\n",
       "      <td>rg.ru</td>\n",
       "      <td>vk</td>\n",
       "    </tr>\n",
       "    <tr>\n",
       "      <th>4</th>\n",
       "      <td>528</td>\n",
       "      <td>816441</td>\n",
       "      <td>«Генерал Мороз» и Миллер могут оставить Европу...</td>\n",
       "      <td>2021-12-09</td>\n",
       "      <td>2021-12-09 12:44:26.000000</td>\n",
       "      <td>0</td>\n",
       "      <td>0</td>\n",
       "      <td>0.0</td>\n",
       "      <td>42.0</td>\n",
       "      <td>{https://svpressa.ru/economy/article/318635/el...</td>\n",
       "      <td>svpressa.ru</td>\n",
       "      <td>vk</td>\n",
       "    </tr>\n",
       "  </tbody>\n",
       "</table>\n",
       "</div>"
      ],
      "text/plain": [
       "        id   post_id                                               text  \\\n",
       "0  1885214  17828455  В какой-то момент учёные начали сомневаться в ...   \n",
       "1  1033381     30621  Цена газа в Европе уже превысила 1400 долларов...   \n",
       "2   424396    920132  Женская индивидуальная гонка свободным стилем ...   \n",
       "3      525   1417279  Американский Институт цвета Pantone назвал нов...   \n",
       "4      528    816441  «Генерал Мороз» и Миллер могут оставить Европу...   \n",
       "\n",
       "         date                        time  comments  likes  reposts   views  \\\n",
       "0  2021-12-18  2021-12-18 11:01:05.000000         2      9      2.0  3780.0   \n",
       "1  2021-12-14  2021-12-14 07:20:20.000000         0      0      0.0    10.0   \n",
       "2  2021-12-12  2021-12-12 14:41:02.000000         0      1      0.0   246.0   \n",
       "3  2021-12-09  2021-12-09 12:44:52.000000         0      0      1.0   180.0   \n",
       "4  2021-12-09  2021-12-09 12:44:26.000000         0      0      0.0    42.0   \n",
       "\n",
       "                                                link  source_name  \\\n",
       "0                        {https://life.ru/p/1457797}      life.ru   \n",
       "1    {https://1prime.ru/gas/20211214/835500297.html}    1prime.ru   \n",
       "2                                                 {}    www.mk.ru   \n",
       "3                                                 {}        rg.ru   \n",
       "4  {https://svpressa.ru/economy/article/318635/el...  svpressa.ru   \n",
       "\n",
       "  social_network  \n",
       "0             vk  \n",
       "1             vk  \n",
       "2             vk  \n",
       "3             vk  \n",
       "4             vk  "
      ]
     },
     "execution_count": 4,
     "metadata": {},
     "output_type": "execute_result"
    }
   ],
   "source": [
    "news.head()"
   ]
  },
  {
   "cell_type": "code",
   "execution_count": 5,
   "metadata": {},
   "outputs": [
    {
     "data": {
      "text/html": [
       "<div>\n",
       "<style scoped>\n",
       "    .dataframe tbody tr th:only-of-type {\n",
       "        vertical-align: middle;\n",
       "    }\n",
       "\n",
       "    .dataframe tbody tr th {\n",
       "        vertical-align: top;\n",
       "    }\n",
       "\n",
       "    .dataframe thead th {\n",
       "        text-align: right;\n",
       "    }\n",
       "</style>\n",
       "<table border=\"1\" class=\"dataframe\">\n",
       "  <thead>\n",
       "    <tr style=\"text-align: right;\">\n",
       "      <th></th>\n",
       "      <th>id</th>\n",
       "      <th>post_id</th>\n",
       "      <th>comments</th>\n",
       "      <th>likes</th>\n",
       "      <th>reposts</th>\n",
       "      <th>views</th>\n",
       "      <th>social_network</th>\n",
       "    </tr>\n",
       "  </thead>\n",
       "  <tbody>\n",
       "    <tr>\n",
       "      <th>0</th>\n",
       "      <td>1097477</td>\n",
       "      <td>1053052</td>\n",
       "      <td>2</td>\n",
       "      <td>2</td>\n",
       "      <td>3.0</td>\n",
       "      <td>1110.0</td>\n",
       "      <td>vk</td>\n",
       "    </tr>\n",
       "    <tr>\n",
       "      <th>1</th>\n",
       "      <td>1097482</td>\n",
       "      <td>1053029</td>\n",
       "      <td>0</td>\n",
       "      <td>8</td>\n",
       "      <td>0.0</td>\n",
       "      <td>1286.0</td>\n",
       "      <td>vk</td>\n",
       "    </tr>\n",
       "    <tr>\n",
       "      <th>2</th>\n",
       "      <td>1097516</td>\n",
       "      <td>1052901</td>\n",
       "      <td>0</td>\n",
       "      <td>14</td>\n",
       "      <td>0.0</td>\n",
       "      <td>2099.0</td>\n",
       "      <td>vk</td>\n",
       "    </tr>\n",
       "    <tr>\n",
       "      <th>3</th>\n",
       "      <td>1097521</td>\n",
       "      <td>1052881</td>\n",
       "      <td>6</td>\n",
       "      <td>5</td>\n",
       "      <td>1.0</td>\n",
       "      <td>1633.0</td>\n",
       "      <td>vk</td>\n",
       "    </tr>\n",
       "    <tr>\n",
       "      <th>4</th>\n",
       "      <td>1097525</td>\n",
       "      <td>1052866</td>\n",
       "      <td>7</td>\n",
       "      <td>6</td>\n",
       "      <td>3.0</td>\n",
       "      <td>2266.0</td>\n",
       "      <td>vk</td>\n",
       "    </tr>\n",
       "  </tbody>\n",
       "</table>\n",
       "</div>"
      ],
      "text/plain": [
       "        id  post_id  comments  likes  reposts   views social_network\n",
       "0  1097477  1053052         2      2      3.0  1110.0             vk\n",
       "1  1097482  1053029         0      8      0.0  1286.0             vk\n",
       "2  1097516  1052901         0     14      0.0  2099.0             vk\n",
       "3  1097521  1052881         6      5      1.0  1633.0             vk\n",
       "4  1097525  1052866         7      6      3.0  2266.0             vk"
      ]
     },
     "execution_count": 5,
     "metadata": {},
     "output_type": "execute_result"
    }
   ],
   "source": [
    "stats.head()"
   ]
  },
  {
   "cell_type": "code",
   "execution_count": 6,
   "metadata": {},
   "outputs": [],
   "source": [
    "stat_fields = ['comments', 'likes', 'reposts', 'views']\n",
    "group_stats = stats.groupby(['post_id', 'social_network']).agg(\n",
    "    **{f'{field}_max': (field, max) for field in stat_fields},\n",
    "    **{f'{field}_min': (field, min) for field in stat_fields}\n",
    ")"
   ]
  },
  {
   "cell_type": "code",
   "execution_count": 7,
   "metadata": {},
   "outputs": [
    {
     "data": {
      "text/html": [
       "<div>\n",
       "<style scoped>\n",
       "    .dataframe tbody tr th:only-of-type {\n",
       "        vertical-align: middle;\n",
       "    }\n",
       "\n",
       "    .dataframe tbody tr th {\n",
       "        vertical-align: top;\n",
       "    }\n",
       "\n",
       "    .dataframe thead th {\n",
       "        text-align: right;\n",
       "    }\n",
       "</style>\n",
       "<table border=\"1\" class=\"dataframe\">\n",
       "  <thead>\n",
       "    <tr style=\"text-align: right;\">\n",
       "      <th></th>\n",
       "      <th></th>\n",
       "      <th>comments_max</th>\n",
       "      <th>likes_max</th>\n",
       "      <th>reposts_max</th>\n",
       "      <th>views_max</th>\n",
       "      <th>comments_min</th>\n",
       "      <th>likes_min</th>\n",
       "      <th>reposts_min</th>\n",
       "      <th>views_min</th>\n",
       "    </tr>\n",
       "    <tr>\n",
       "      <th>post_id</th>\n",
       "      <th>social_network</th>\n",
       "      <th></th>\n",
       "      <th></th>\n",
       "      <th></th>\n",
       "      <th></th>\n",
       "      <th></th>\n",
       "      <th></th>\n",
       "      <th></th>\n",
       "      <th></th>\n",
       "    </tr>\n",
       "  </thead>\n",
       "  <tbody>\n",
       "    <tr>\n",
       "      <th>228</th>\n",
       "      <th>vk</th>\n",
       "      <td>0</td>\n",
       "      <td>2</td>\n",
       "      <td>1.0</td>\n",
       "      <td>48.0</td>\n",
       "      <td>0</td>\n",
       "      <td>0</td>\n",
       "      <td>0.0</td>\n",
       "      <td>0.0</td>\n",
       "    </tr>\n",
       "    <tr>\n",
       "      <th>229</th>\n",
       "      <th>vk</th>\n",
       "      <td>0</td>\n",
       "      <td>1</td>\n",
       "      <td>0.0</td>\n",
       "      <td>20.0</td>\n",
       "      <td>0</td>\n",
       "      <td>0</td>\n",
       "      <td>0.0</td>\n",
       "      <td>1.0</td>\n",
       "    </tr>\n",
       "    <tr>\n",
       "      <th>230</th>\n",
       "      <th>vk</th>\n",
       "      <td>0</td>\n",
       "      <td>0</td>\n",
       "      <td>0.0</td>\n",
       "      <td>8.0</td>\n",
       "      <td>0</td>\n",
       "      <td>0</td>\n",
       "      <td>0.0</td>\n",
       "      <td>1.0</td>\n",
       "    </tr>\n",
       "    <tr>\n",
       "      <th>1591</th>\n",
       "      <th>vk</th>\n",
       "      <td>2</td>\n",
       "      <td>5</td>\n",
       "      <td>0.0</td>\n",
       "      <td>750.0</td>\n",
       "      <td>2</td>\n",
       "      <td>5</td>\n",
       "      <td>0.0</td>\n",
       "      <td>748.0</td>\n",
       "    </tr>\n",
       "    <tr>\n",
       "      <th>1593</th>\n",
       "      <th>vk</th>\n",
       "      <td>0</td>\n",
       "      <td>4</td>\n",
       "      <td>1.0</td>\n",
       "      <td>635.0</td>\n",
       "      <td>0</td>\n",
       "      <td>4</td>\n",
       "      <td>1.0</td>\n",
       "      <td>621.0</td>\n",
       "    </tr>\n",
       "  </tbody>\n",
       "</table>\n",
       "</div>"
      ],
      "text/plain": [
       "                        comments_max  likes_max  reposts_max  views_max  \\\n",
       "post_id social_network                                                    \n",
       "228     vk                         0          2          1.0       48.0   \n",
       "229     vk                         0          1          0.0       20.0   \n",
       "230     vk                         0          0          0.0        8.0   \n",
       "1591    vk                         2          5          0.0      750.0   \n",
       "1593    vk                         0          4          1.0      635.0   \n",
       "\n",
       "                        comments_min  likes_min  reposts_min  views_min  \n",
       "post_id social_network                                                   \n",
       "228     vk                         0          0          0.0        0.0  \n",
       "229     vk                         0          0          0.0        1.0  \n",
       "230     vk                         0          0          0.0        1.0  \n",
       "1591    vk                         2          5          0.0      748.0  \n",
       "1593    vk                         0          4          1.0      621.0  "
      ]
     },
     "execution_count": 7,
     "metadata": {},
     "output_type": "execute_result"
    }
   ],
   "source": [
    "group_stats.head()"
   ]
  },
  {
   "cell_type": "markdown",
   "metadata": {},
   "source": [
    "# Per post visualization"
   ]
  },
  {
   "cell_type": "code",
   "execution_count": 8,
   "metadata": {},
   "outputs": [],
   "source": [
    "post_id = 2573845\n",
    "sn = 'vk'\n",
    "post_dynamic = stats[(stats.post_id == post_id) & (stats.social_network == sn)]"
   ]
  },
  {
   "cell_type": "code",
   "execution_count": 9,
   "metadata": {},
   "outputs": [
    {
     "data": {
      "image/png": "[encoded data removed]",
      "text/plain": [
       "<Figure size 432x288 with 1 Axes>"
      ]
     },
     "metadata": {
      "needs_background": "light"
     },
     "output_type": "display_data"
    },
    {
     "data": {
      "image/png": "[encoded data removed]",
      "text/plain": [
       "<Figure size 432x288 with 1 Axes>"
      ]
     },
     "metadata": {
      "needs_background": "light"
     },
     "output_type": "display_data"
    },
    {
     "data": {
      "image/png": "[encoded data removed]",
      "text/plain": [
       "<Figure size 432x288 with 1 Axes>"
      ]
     },
     "metadata": {
      "needs_background": "light"
     },
     "output_type": "display_data"
    },
    {
     "data": {
      "image/png": "[encoded data removed]",
      "text/plain": [
       "<Figure size 432x288 with 1 Axes>"
      ]
     },
     "metadata": {
      "needs_background": "light"
     },
     "output_type": "display_data"
    }
   ],
   "source": [
    "for f in stat_fields:\n",
    "    post_dynamic.plot('id', f)"
   ]
  },
  {
   "cell_type": "markdown",
   "metadata": {},
   "source": [
    "# Resource agg"
   ]
  },
  {
   "cell_type": "markdown",
   "metadata": {},
   "source": [
    "Графики по какому-то домену: распределения лайков, вьюшек, в каком канале (вк или тг), средние по дням и т.п.."
   ]
  },
  {
   "cell_type": "code",
   "execution_count": 10,
   "metadata": {},
   "outputs": [],
   "source": [
    "resource_stats = stats.merge(news[['source_name', 'post_id', 'date']], on='post_id', how='inner')\n",
    "resource_stats = resource_stats.sort_values(stat_fields, ascending=False)\n",
    "resource_stats.drop_duplicates('post_id', inplace=True)"
   ]
  },
  {
   "cell_type": "code",
   "execution_count": 11,
   "metadata": {},
   "outputs": [
    {
     "data": {
      "image/png": "[encoded data removed]",
      "text/plain": [
       "<Figure size 1080x360 with 4 Axes>"
      ]
     },
     "metadata": {
      "needs_background": "light"
     },
     "output_type": "display_data"
    }
   ],
   "source": [
    "domain = 'ria.ru'\n",
    "# domain = 'svpressa.ru'\n",
    "domain_stats = resource_stats[resource_stats.source_name == domain]\n",
    "plt.figure(figsize=(15, 5))\n",
    "for i, f in enumerate(stat_fields):\n",
    "    ax = plt.subplot(1, len(stat_fields), i + 1)\n",
    "    \n",
    "    left = 0\n",
    "    right = domain_stats[f].quantile(0.9)\n",
    "    plt_kwargs = dict(\n",
    "        ax=ax,\n",
    "        bins=10,\n",
    "        alpha=0.5,\n",
    "        range=(left, right)\n",
    "    )\n",
    "    \n",
    "    domain_stats[domain_stats.social_network == 'vk'].hist(f, **plt_kwargs, label='vk')\n",
    "    if domain_stats[domain_stats.social_network == 'tg'][f].sum():\n",
    "        domain_stats[domain_stats.social_network == 'tg'].hist(f, **plt_kwargs, label='tg')\n",
    "    plt.legend()"
   ]
  },
  {
   "cell_type": "code",
   "execution_count": 12,
   "metadata": {},
   "outputs": [],
   "source": [
    "date_dynamic = resource_stats.groupby(['social_network', 'source_name', 'date']).agg(**{f: (f, sum) for f in stat_fields})\n",
    "date_dynamic = date_dynamic.reset_index()"
   ]
  },
  {
   "cell_type": "markdown",
   "metadata": {},
   "source": [
    "П.С. тут думал сделать сравнение между доменами, но их много и график получается нечитабельным"
   ]
  },
  {
   "cell_type": "code",
   "execution_count": 13,
   "metadata": {
    "scrolled": false
   },
   "outputs": [
    {
     "data": {
      "image/png": "[encoded data removed]",
      "text/plain": [
       "<Figure size 432x288 with 1 Axes>"
      ]
     },
     "metadata": {
      "needs_background": "light"
     },
     "output_type": "display_data"
    },
    {
     "data": {
      "image/png": "[encoded data removed]",
      "text/plain": [
       "<Figure size 432x288 with 1 Axes>"
      ]
     },
     "metadata": {
      "needs_background": "light"
     },
     "output_type": "display_data"
    },
    {
     "data": {
      "image/png": "[encoded data removed]",
      "text/plain": [
       "<Figure size 432x288 with 1 Axes>"
      ]
     },
     "metadata": {
      "needs_background": "light"
     },
     "output_type": "display_data"
    },
    {
     "data": {
      "image/png": "[encoded data removed]",
      "text/plain": [
       "<Figure size 432x288 with 1 Axes>"
      ]
     },
     "metadata": {
      "needs_background": "light"
     },
     "output_type": "display_data"
    }
   ],
   "source": [
    "social_network = 'vk'\n",
    "domain = 'iz.ru'\n",
    "\n",
    "for f in stat_fields:\n",
    "    data_filter = (date_dynamic['social_network'] == social_network) & (date_dynamic['source_name'] == domain)\n",
    "    date_dynamic[data_filter].plot('date', f)\n"
   ]
  },
  {
   "cell_type": "markdown",
   "metadata": {},
   "source": [
    "# Clusterization"
   ]
  },
  {
   "cell_type": "markdown",
   "metadata": {},
   "source": [
    "Идея: найти похожие новости и сравнить лайки, вьюшки и т.д."
   ]
  },
  {
   "cell_type": "code",
   "execution_count": 14,
   "metadata": {},
   "outputs": [
    {
     "name": "stderr",
     "output_type": "stream",
     "text": [
      "Warning : `load_model` does not return WordVectorModel or SupervisedModel any more, but a `FastText` object which is very similar.\n"
     ]
    }
   ],
   "source": [
    "model = fasttext.load_model('cc.ru.300.bin')"
   ]
  },
  {
   "cell_type": "code",
   "execution_count": 52,
   "metadata": {},
   "outputs": [],
   "source": [
    "emoji_pattern = re.compile(pattern = \"[\"\n",
    "        u\"\\U0001F600-\\U0001F64F\"  # emoticons\n",
    "        u\"\\U0001F300-\\U0001F5FF\"  # symbols & pictographs\n",
    "        u\"\\U0001F680-\\U0001F6FF\"  # transport & map symbols\n",
    "        u\"\\U0001F1E0-\\U0001F1FF\"  # flags (iOS)\n",
    "                           \"]+\", flags = re.UNICODE)\n",
    "\n",
    "def prepare_text(text):\n",
    "    text = re.sub(r'(https?://\\S+)', ' ', text)\n",
    "    text = re.sub(r'/\\n', ' ', text)\n",
    "    text = re.sub(r'\\d', ' ', text)\n",
    "    text = re.sub(emoji_pattern, ' ', text)\n",
    "    text = re.sub(r'\\s+', ' ', text)\n",
    "    text = text.translate(str.maketrans('', '', string.punctuation))\n",
    "    return text"
   ]
  },
  {
   "cell_type": "code",
   "execution_count": 71,
   "metadata": {},
   "outputs": [],
   "source": [
    "date = '2021-12-18'\n",
    "news_text = news[news.date == date][['post_id', 'text', 'social_network']]\n",
    "news_text.dropna(inplace=True)\n",
    "news_text.loc[:, 'text'] = news_text['text'].apply(prepare_text)\n",
    "news_text = news_text[news_text.text.apply(len) > 1]\n",
    "text_emb = news_text['text'].apply(lambda x: model[x])"
   ]
  },
  {
   "cell_type": "code",
   "execution_count": 72,
   "metadata": {},
   "outputs": [],
   "source": [
    "text_emb = pd.DataFrame(text_emb.to_list(), )"
   ]
  },
  {
   "cell_type": "code",
   "execution_count": 73,
   "metadata": {},
   "outputs": [
    {
     "name": "stdout",
     "output_type": "stream",
     "text": [
      "CPU times: user 311 ms, sys: 3.75 ms, total: 315 ms\n",
      "Wall time: 314 ms\n"
     ]
    }
   ],
   "source": [
    "%%time\n",
    "text_clusters = cluster.AgglomerativeClustering(\n",
    "    n_clusters=None,\n",
    "    affinity='cosine',\n",
    "    linkage='complete',\n",
    "    distance_threshold=0.1,\n",
    ").fit_predict(text_emb)"
   ]
  },
  {
   "cell_type": "code",
   "execution_count": 74,
   "metadata": {},
   "outputs": [],
   "source": [
    "news_text['cluster'] = text_clusters"
   ]
  },
  {
   "cell_type": "code",
   "execution_count": 87,
   "metadata": {},
   "outputs": [
    {
     "data": {
      "text/plain": [
       "array([[95969,\n",
       "        'Россия рассчитывает что НАТО не удастся заболтать российские предложения по гарантиям безопасности заявил Грушко Заместитель министра иностранных дел РФ отметил также что Россия перейдет в режим создания контругроз если НАТО не примет предложения по гарантиям безопасности По словам Грушко в отношениях РФ и НАТО наступил момент истины предложения Москвы нацелены на то чтобы отойти от опасной черты Россия будет последовательно добиваться построения европейской безопасности по принципам сформулированным Москвой заявил он',\n",
       "        'tg', 16],\n",
       "       [4241027,\n",
       "        'Россия перейдет в режим создания контругроз если НАТО не примет предложения по гарантиям безопасности заявил заместитель министра иностранных дел РФ Александр Грушко ',\n",
       "        'vk', 16],\n",
       "       [2635016,\n",
       "        'Россия рассчитывает что Североатлантическому альянсу не удастся «заболтать» российские предложения по гарантиям безопасности заявил заместитель министра иностранных дел РФ Александр Грушко ',\n",
       "        'vk', 16]], dtype=object)"
      ]
     },
     "execution_count": 87,
     "metadata": {},
     "output_type": "execute_result"
    }
   ],
   "source": [
    "news_text[news_text.cluster == 16].values"
   ]
  },
  {
   "cell_type": "markdown",
   "metadata": {},
   "source": [
    "Вывод: Нужна хорошая кластеризация (Можно еще попробовать knn)"
   ]
  },
  {
   "cell_type": "markdown",
   "metadata": {},
   "source": [
    "# RSS join"
   ]
  },
  {
   "cell_type": "markdown",
   "metadata": {},
   "source": [
    "Идея: подтягивать текст новости из вк/тг"
   ]
  },
  {
   "cell_type": "code",
   "execution_count": 100,
   "metadata": {
    "scrolled": true
   },
   "outputs": [],
   "source": [
    "def preproc_link(link_set):\n",
    "    link_set = link_set[1:-1].split(',')\n",
    "    return link_set"
   ]
  },
  {
   "cell_type": "code",
   "execution_count": 113,
   "metadata": {},
   "outputs": [],
   "source": [
    "news_link = news[['link', 'text']].dropna(subset=['link'])\n",
    "\n",
    "news_link.loc[:, 'link'] = news_link.link.apply(preproc_link)\n",
    "\n",
    "news_link = news_link.explode('link')\n",
    "\n",
    "news_link = news_link[news_link.link.apply(len) > 0]"
   ]
  },
  {
   "cell_type": "code",
   "execution_count": 121,
   "metadata": {},
   "outputs": [],
   "source": [
    "rss_vk_merged = rss[['date', 'content', 'title', 'source_url', 'source_name']].merge(\n",
    "    news_link,\n",
    "    left_on='source_url',\n",
    "    right_on='link'\n",
    ")"
   ]
  },
  {
   "cell_type": "code",
   "execution_count": 124,
   "metadata": {},
   "outputs": [
    {
     "data": {
      "text/plain": [
       "(1716, 7)"
      ]
     },
     "execution_count": 124,
     "metadata": {},
     "output_type": "execute_result"
    }
   ],
   "source": [
    "rss_vk_merged.shape"
   ]
  },
  {
   "cell_type": "code",
   "execution_count": 125,
   "metadata": {},
   "outputs": [
    {
     "data": {
      "text/plain": [
       "(23173, 13)"
      ]
     },
     "execution_count": 125,
     "metadata": {},
     "output_type": "execute_result"
    }
   ],
   "source": [
    "rss.shape"
   ]
  },
  {
   "cell_type": "markdown",
   "metadata": {},
   "source": [
    "Слишком маленькое пересечение"
   ]
  }
 ],
 "metadata": {
  "kernelspec": {
   "display_name": "Python 3",
   "language": "python",
   "name": "python3"
  },
  "language_info": {
   "codemirror_mode": {
    "name": "ipython",
    "version": 3
   },
   "file_extension": ".py",
   "mimetype": "text/x-python",
   "name": "python",
   "nbconvert_exporter": "python",
   "pygments_lexer": "ipython3",
   "version": "3.7.3"
  }
 },
 "nbformat": 4,
 "nbformat_minor": 4
}
