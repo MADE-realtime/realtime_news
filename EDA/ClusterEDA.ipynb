{
 "cells": [
  {
   "cell_type": "code",
   "execution_count": 2,
   "metadata": {},
   "outputs": [
    {
     "name": "stdout",
     "output_type": "stream",
     "text": [
      "Collecting fasttext\n",
      "  Downloading fasttext-0.9.2.tar.gz (68 kB)\n",
      "\u001b[K     |████████████████████████████████| 68 kB 818 kB/s eta 0:00:01\n",
      "\u001b[?25hRequirement already satisfied: pybind11>=2.2 in /home/cherepaha/miniconda/envs/py37/lib/python3.7/site-packages (from fasttext) (2.8.1)\n",
      "Requirement already satisfied: setuptools>=0.7.0 in /home/cherepaha/miniconda/envs/py37/lib/python3.7/site-packages (from fasttext) (47.3.1.post20200622)\n",
      "Requirement already satisfied: numpy in /home/cherepaha/miniconda/envs/py37/lib/python3.7/site-packages (from fasttext) (1.18.0)\n",
      "Building wheels for collected packages: fasttext\n",
      "  Building wheel for fasttext (setup.py) ... \u001b[?25ldone\n",
      "\u001b[?25h  Created wheel for fasttext: filename=fasttext-0.9.2-cp37-cp37m-linux_x86_64.whl size=4745091 sha256=5c69a1ac626a919c3a9f34a6e76841cb0debe65cf3a18a6ff7e3b9fe1bfdf3aa\n",
      "  Stored in directory: /home/cherepaha/.cache/pip/wheels/4e/ca/bf/b020d2be95f7641801a6597a29c8f4f19e38f9c02a345bab9b\n",
      "Successfully built fasttext\n",
      "Installing collected packages: fasttext\n",
      "Successfully installed fasttext-0.9.2\n"
     ]
    }
   ],
   "source": [
    "!pip install fasttext"
   ]
  },
  {
   "cell_type": "code",
   "execution_count": 28,
   "metadata": {},
   "outputs": [],
   "source": [
    "from collections import Counter\n",
    "import json\n",
    "import pandas as pd\n",
    "from sklearn import cluster\n",
    "import gensim.downloader as api\n",
    "from pymystem3 import Mystem\n",
    "from tqdm import tqdm\n",
    "import fasttext\n",
    "import matplotlib.pyplot as plt"
   ]
  },
  {
   "cell_type": "code",
   "execution_count": 22,
   "metadata": {},
   "outputs": [],
   "source": [
    "# rns_to_upos = {}\n",
    "# with open('ru-rnc.map.txt') as fin:\n",
    "#     for line in fin.read().split('\\n'):\n",
    "#         line = line.strip()\n",
    "#         if line:\n",
    "#             rns, upos = line.strip().split()\n",
    "#             rns_to_upos[rns] = upos\n",
    "\n",
    "# def tag(word):\n",
    "#     m = Mystem()\n",
    "#     processed = m.analyze(word)[0]\n",
    "#     lemma = processed[\"analysis\"][0][\"lex\"].lower().strip()\n",
    "#     pos = processed[\"analysis\"][0][\"gr\"].split(',')[0]\n",
    "#     pos = pos.split('=')[0].strip()\n",
    "#     upos = rns_to_upos[pos]\n",
    "#     tagged = lemma+'_'+upos\n",
    "#     return tagged\n",
    "\n",
    "# model = api.load(\"word2vec-ruscorpora-300\")\n",
    "# # model.most_similar(\"glass\")"
   ]
  },
  {
   "cell_type": "code",
   "execution_count": 4,
   "metadata": {},
   "outputs": [],
   "source": [
    "!mv /home/cherepaha/Downloads/cc.ru.300.bin.gz ./"
   ]
  },
  {
   "cell_type": "code",
   "execution_count": 6,
   "metadata": {},
   "outputs": [],
   "source": [
    "!gzip -d cc.ru.300.bin.gz"
   ]
  },
  {
   "cell_type": "code",
   "execution_count": 7,
   "metadata": {},
   "outputs": [
    {
     "name": "stderr",
     "output_type": "stream",
     "text": [
      "Warning : `load_model` does not return WordVectorModel or SupervisedModel any more, but a `FastText` object which is very similar.\n"
     ]
    }
   ],
   "source": [
    "model = fasttext.load_model('cc.ru.300.bin')"
   ]
  },
  {
   "cell_type": "code",
   "execution_count": 76,
   "metadata": {},
   "outputs": [],
   "source": [
    "rss = pd.read_json('rss.json')\n",
    "vk = pd.read_json('vk.json')\n",
    "tg = pd.read_json('tg.json')"
   ]
  },
  {
   "cell_type": "code",
   "execution_count": 77,
   "metadata": {},
   "outputs": [],
   "source": [
    "rss = rss[rss.domain != 'aktualno.ru']"
   ]
  },
  {
   "cell_type": "code",
   "execution_count": 79,
   "metadata": {},
   "outputs": [],
   "source": [
    "rss.drop_duplicates('title', inplace=True)\n",
    "rss.drop_duplicates('source_url', inplace=True)"
   ]
  },
  {
   "cell_type": "code",
   "execution_count": 80,
   "metadata": {},
   "outputs": [
    {
     "data": {
      "text/plain": [
       "array(['primamedia.ru', 'www.vedomosti.ru', 'babr24.com', 'ria.ru',\n",
       "       'tverlife.ru', 'www.liga.net', 'vm.ru', 'www.sb.by',\n",
       "       'www.kommersant.ru', 'kurjer.info', 'life.ru', 'www.kt.kz',\n",
       "       'www.gazeta.ru', 'deita.ru', 'www.trend.az', 'www.livekuban.ru',\n",
       "       'tass.ru', 'www.mn.ru', 'www.1rnd.ru', 'www.pressball.by',\n",
       "       'delo.ua', 'tvzvezda.ru', 'liter.kz', 'www.vesti.ru'], dtype=object)"
      ]
     },
     "execution_count": 80,
     "metadata": {},
     "output_type": "execute_result"
    }
   ],
   "source": [
    "tg.source_name.unique()"
   ]
  },
  {
   "cell_type": "code",
   "execution_count": 81,
   "metadata": {},
   "outputs": [],
   "source": [
    "title = rss.title.drop_duplicates()"
   ]
  },
  {
   "cell_type": "code",
   "execution_count": 82,
   "metadata": {},
   "outputs": [],
   "source": [
    "title_emb = title.apply(lambda x: model[x])"
   ]
  },
  {
   "cell_type": "code",
   "execution_count": 83,
   "metadata": {},
   "outputs": [],
   "source": [
    "title_emb = pd.DataFrame(title_emb.to_list(), )"
   ]
  },
  {
   "cell_type": "code",
   "execution_count": 118,
   "metadata": {},
   "outputs": [],
   "source": [
    "title_clusters = cluster.DBSCAN(eps=0.12, min_samples=2).fit_predict(title_emb)"
   ]
  },
  {
   "cell_type": "code",
   "execution_count": 119,
   "metadata": {},
   "outputs": [],
   "source": [
    "rss.loc[:, 'cluster'] = title_clusters"
   ]
  },
  {
   "cell_type": "code",
   "execution_count": 120,
   "metadata": {},
   "outputs": [
    {
     "data": {
      "text/plain": [
       "array([ -1,   0,   1,   2,   3,   4,   5,   6,   7,   8,   9,  10,  11,\n",
       "        12,  13,  14,  15,  16,  17,  18,  19,  20,  21,  22,  23,  24,\n",
       "        25,  26,  27,  28,  29,  30,  31,  32,  33,  34,  35,  36,  37,\n",
       "        38,  39,  40,  41,  42,  43,  44,  45,  46,  47,  48,  49,  50,\n",
       "        51,  52,  53,  54,  55,  56,  57,  58,  59,  60,  61,  62,  63,\n",
       "        64,  65,  66,  67,  68,  69,  70,  71,  72,  73,  74,  75,  76,\n",
       "        77,  78,  79,  80,  81,  82,  83,  84,  85,  86,  87,  88,  89,\n",
       "        90,  91,  92,  93,  94,  95,  96,  97,  98,  99, 100, 101, 102,\n",
       "       103, 104, 105, 106, 107, 108, 109, 110, 111, 112, 113, 114, 115,\n",
       "       116, 117, 118, 119, 120, 121, 122, 123, 124, 125, 126, 127, 128,\n",
       "       129, 130, 131, 132, 133, 134, 135, 136, 137, 138, 139, 140, 141,\n",
       "       142, 143, 144, 145, 146, 147, 148, 149, 150, 151, 152, 153, 154,\n",
       "       155, 156, 157, 158, 159, 160, 161, 162, 163, 164, 165, 166, 167,\n",
       "       168, 169, 170, 171, 172, 173, 174, 175, 176, 177, 178, 179, 180,\n",
       "       181, 182, 183, 184, 185, 186, 187, 188, 189, 190, 191])"
      ]
     },
     "execution_count": 120,
     "metadata": {},
     "output_type": "execute_result"
    }
   ],
   "source": [
    "rss.cluster.unique()"
   ]
  },
  {
   "cell_type": "code",
   "execution_count": 126,
   "metadata": {},
   "outputs": [
    {
     "data": {
      "text/plain": [
       "array(['Разведка США ожидает \"нападения России на Украину\" в 2022 году',\n",
       "       'AP: разведка США ожидает наступления России на Украину в начале 2022 года'],\n",
       "      dtype=object)"
      ]
     },
     "execution_count": 126,
     "metadata": {},
     "output_type": "execute_result"
    }
   ],
   "source": [
    "rss[rss.cluster == 1].title.values"
   ]
  }
 ],
 "metadata": {
  "kernelspec": {
   "display_name": "Python 3",
   "language": "python",
   "name": "python3"
  },
  "language_info": {
   "codemirror_mode": {
    "name": "ipython",
    "version": 3
   },
   "file_extension": ".py",
   "mimetype": "text/x-python",
   "name": "python",
   "nbconvert_exporter": "python",
   "pygments_lexer": "ipython3",
   "version": "3.7.3"
  }
 },
 "nbformat": 4,
 "nbformat_minor": 4
}
