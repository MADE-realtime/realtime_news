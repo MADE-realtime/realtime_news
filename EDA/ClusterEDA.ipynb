{
 "cells": [
  {
   "cell_type": "code",
   "execution_count": 1,
   "metadata": {},
   "outputs": [
    {
     "name": "stderr",
     "output_type": "stream",
     "text": [
      "/home/cherepaha/miniconda/envs/py37/lib/python3.7/site-packages/gensim/similarities/__init__.py:15: UserWarning: The gensim.similarities.levenshtein submodule is disabled, because the optional Levenshtein package <https://pypi.org/project/python-Levenshtein/> is unavailable. Install Levenhstein (e.g. `pip install python-Levenshtein`) to suppress this warning.\n",
      "  warnings.warn(msg)\n"
     ]
    }
   ],
   "source": [
    "from collections import Counter\n",
    "import json\n",
    "import pandas as pd\n",
    "from sklearn import cluster\n",
    "import gensim.downloader as api\n",
    "from pymystem3 import Mystem\n",
    "from tqdm import tqdm\n",
    "import fasttext\n",
    "import matplotlib.pyplot as plt"
   ]
  },
  {
   "cell_type": "code",
   "execution_count": 2,
   "metadata": {},
   "outputs": [],
   "source": [
    "# rns_to_upos = {}\n",
    "# with open('ru-rnc.map.txt') as fin:\n",
    "#     for line in fin.read().split('\\n'):\n",
    "#         line = line.strip()\n",
    "#         if line:\n",
    "#             rns, upos = line.strip().split()\n",
    "#             rns_to_upos[rns] = upos\n",
    "\n",
    "# def tag(word):\n",
    "#     m = Mystem()\n",
    "#     processed = m.analyze(word)[0]\n",
    "#     lemma = processed[\"analysis\"][0][\"lex\"].lower().strip()\n",
    "#     pos = processed[\"analysis\"][0][\"gr\"].split(',')[0]\n",
    "#     pos = pos.split('=')[0].strip()\n",
    "#     upos = rns_to_upos[pos]\n",
    "#     tagged = lemma+'_'+upos\n",
    "#     return tagged\n",
    "\n",
    "# model = api.load(\"word2vec-ruscorpora-300\")\n",
    "# # model.most_similar(\"glass\")"
   ]
  },
  {
   "cell_type": "code",
   "execution_count": 3,
   "metadata": {},
   "outputs": [
    {
     "name": "stderr",
     "output_type": "stream",
     "text": [
      "Warning : `load_model` does not return WordVectorModel or SupervisedModel any more, but a `FastText` object which is very similar.\n"
     ]
    }
   ],
   "source": [
    "model = fasttext.load_model('cc.ru.300.bin')"
   ]
  },
  {
   "cell_type": "code",
   "execution_count": 4,
   "metadata": {},
   "outputs": [],
   "source": [
    "rss = pd.read_json('rss.json')\n",
    "vk = pd.read_json('vk.json')\n",
    "tg = pd.read_json('tg.json')"
   ]
  },
  {
   "cell_type": "code",
   "execution_count": 5,
   "metadata": {},
   "outputs": [],
   "source": [
    "rss = rss[rss.domain != 'aktualno.ru']"
   ]
  },
  {
   "cell_type": "code",
   "execution_count": 6,
   "metadata": {},
   "outputs": [],
   "source": [
    "rss.drop_duplicates('title', inplace=True)\n",
    "rss.drop_duplicates('source_url', inplace=True)"
   ]
  },
  {
   "cell_type": "code",
   "execution_count": 7,
   "metadata": {},
   "outputs": [
    {
     "data": {
      "text/plain": [
       "array(['primamedia.ru', 'www.vedomosti.ru', 'babr24.com', 'ria.ru',\n",
       "       'tverlife.ru', 'www.liga.net', 'vm.ru', 'www.sb.by',\n",
       "       'www.kommersant.ru', 'kurjer.info', 'life.ru', 'www.kt.kz',\n",
       "       'www.gazeta.ru', 'deita.ru', 'www.trend.az', 'www.livekuban.ru',\n",
       "       'tass.ru', 'www.mn.ru', 'www.1rnd.ru', 'www.pressball.by',\n",
       "       'delo.ua', 'tvzvezda.ru', 'liter.kz', 'www.vesti.ru'], dtype=object)"
      ]
     },
     "execution_count": 7,
     "metadata": {},
     "output_type": "execute_result"
    }
   ],
   "source": [
    "tg.source_name.unique()"
   ]
  },
  {
   "cell_type": "code",
   "execution_count": 8,
   "metadata": {},
   "outputs": [],
   "source": [
    "title = rss.title.drop_duplicates()"
   ]
  },
  {
   "cell_type": "code",
   "execution_count": 9,
   "metadata": {},
   "outputs": [],
   "source": [
    "title_emb = title.apply(lambda x: model[x])"
   ]
  },
  {
   "cell_type": "code",
   "execution_count": 10,
   "metadata": {},
   "outputs": [],
   "source": [
    "title_emb = pd.DataFrame(title_emb.to_list(), )"
   ]
  },
  {
   "cell_type": "code",
   "execution_count": 103,
   "metadata": {},
   "outputs": [],
   "source": [
    "# title_clusters = cluster.DBSCAN(eps=0.25, metric='cosine', min_samples=2).fit_predict(title_emb)\n",
    "title_clusters = cluster.AgglomerativeClustering(\n",
    "    n_clusters=None,\n",
    "    affinity='cosine',\n",
    "    linkage='complete',\n",
    "    distance_threshold=0.25\n",
    ").fit_predict(title_emb)"
   ]
  },
  {
   "cell_type": "code",
   "execution_count": 104,
   "metadata": {},
   "outputs": [],
   "source": [
    "rss.loc[:, 'cluster'] = title_clusters"
   ]
  },
  {
   "cell_type": "code",
   "execution_count": 105,
   "metadata": {},
   "outputs": [
    {
     "data": {
      "text/plain": [
       "array([3023, 1774,  186, ..., 1495, 2675, 2581])"
      ]
     },
     "execution_count": 105,
     "metadata": {},
     "output_type": "execute_result"
    }
   ],
   "source": [
    "rss.cluster.unique()"
   ]
  },
  {
   "cell_type": "code",
   "execution_count": 112,
   "metadata": {},
   "outputs": [
    {
     "data": {
      "text/plain": [
       "<matplotlib.axes._subplots.AxesSubplot at 0x7fa72ae4ee10>"
      ]
     },
     "execution_count": 112,
     "metadata": {},
     "output_type": "execute_result"
    },
    {
     "data": {
      "image/png": "[encoded data removed]",
      "text/plain": [
       "<Figure size 432x288 with 1 Axes>"
      ]
     },
     "metadata": {
      "needs_background": "light"
     },
     "output_type": "display_data"
    }
   ],
   "source": [
    "rss.groupby('cluster')['title'].count().hist(range=(1, 16))"
   ]
  },
  {
   "cell_type": "code",
   "execution_count": 113,
   "metadata": {},
   "outputs": [
    {
     "data": {
      "text/plain": [
       "cluster\n",
       "0        9\n",
       "11      15\n",
       "45       8\n",
       "50       8\n",
       "73       7\n",
       "82       7\n",
       "83       8\n",
       "100      9\n",
       "104      7\n",
       "127      8\n",
       "139      7\n",
       "152      7\n",
       "154     10\n",
       "176      8\n",
       "186      9\n",
       "206      7\n",
       "253      7\n",
       "261      9\n",
       "267      7\n",
       "295      7\n",
       "306      7\n",
       "322      8\n",
       "353      8\n",
       "376      9\n",
       "381      8\n",
       "485      9\n",
       "603      7\n",
       "690      8\n",
       "741     13\n",
       "757     11\n",
       "806      7\n",
       "1030    13\n",
       "1037    17\n",
       "1112    10\n",
       "1294     7\n",
       "1500     7\n",
       "1571     8\n",
       "Name: title, dtype: int64"
      ]
     },
     "execution_count": 113,
     "metadata": {},
     "output_type": "execute_result"
    }
   ],
   "source": [
    "rss.groupby('cluster')['title'].count()[rss.groupby('cluster')['title'].count() > 6]"
   ]
  },
  {
   "cell_type": "code",
   "execution_count": 117,
   "metadata": {
    "scrolled": false
   },
   "outputs": [
    {
     "data": {
      "text/plain": [
       "array(['В России выявили 32,1 тыс. случаев коронавируса за сутки',\n",
       "       'В России за сутки выявили 32 136 новых случаев коронавируса',\n",
       "       'В России за сутки выявили 32 136 случаев заражения коронавирусом',\n",
       "       'В России выявили 32\\xa0930 случаев коронавируса за сутки',\n",
       "       'За сутки в России выявили 32 136 новых случаев COVID-19. От инфекции скончались еще 1184 человека ',\n",
       "       'За сутки в России выявили 32 136 случаев коронавируса',\n",
       "       'За сутки в России выявили 32 602 заболевших коронавирусом',\n",
       "       'За сутки в России выявили почти 33 тысячи заболевших коронавирусом'],\n",
       "      dtype=object)"
      ]
     },
     "execution_count": 117,
     "metadata": {},
     "output_type": "execute_result"
    }
   ],
   "source": [
    "rss[rss.cluster == 1571].title.values"
   ]
  },
  {
   "cell_type": "code",
   "execution_count": null,
   "metadata": {},
   "outputs": [],
   "source": []
  }
 ],
 "metadata": {
  "kernelspec": {
   "display_name": "Python 3",
   "language": "python",
   "name": "python3"
  },
  "language_info": {
   "codemirror_mode": {
    "name": "ipython",
    "version": 3
   },
   "file_extension": ".py",
   "mimetype": "text/x-python",
   "name": "python",
   "nbconvert_exporter": "python",
   "pygments_lexer": "ipython3",
   "version": "3.7.3"
  }
 },
 "nbformat": 4,
 "nbformat_minor": 4
}
